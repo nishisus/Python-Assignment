{
 "cells": [
  {
   "cell_type": "markdown",
   "id": "cc70538f",
   "metadata": {},
   "source": [
    "# You have a nested list as below:\n",
    "indian_employees = [[\"Raj\", \"Patel\"], [\"Priya\", \"Sharma\"],[\"Amit\", \"Kumar\"],[\"Neha\", \"Singh\"]]\n",
    "your have to create an email address for each employee.\n",
    "Email address should be there firstname+lastname@gmail.com"
   ]
  },
  {
   "cell_type": "code",
   "execution_count": 1,
   "id": "15b297e8",
   "metadata": {},
   "outputs": [
    {
     "name": "stdout",
     "output_type": "stream",
     "text": [
      "RajPatel@gmail.com\n",
      "PriyaSharma@gmail.com\n",
      "AmitKumar@gmail.com\n",
      "NehaSingh@gmail.com\n"
     ]
    }
   ],
   "source": [
    "# Given nested list of employees\n",
    "indian_employees = [[\"Raj\", \"Patel\"], [\"Priya\", \"Sharma\"], [\"Amit\", \"Kumar\"], [\"Neha\", \"Singh\"]]\n",
    "\n",
    "# Create an empty list to store email addresses\n",
    "email_addresses = []\n",
    "\n",
    "# Iterate through the list of employees\n",
    "for employee in indian_employees:\n",
    "    # Concatenate first name and last name\n",
    "    first_name = employee[0]\n",
    "    last_name = employee[1]\n",
    "    email = first_name + last_name + \"@gmail.com\"\n",
    "    \n",
    "    # Add the email to the list of email addresses\n",
    "    email_addresses.append(email)\n",
    "\n",
    "# Print the list of email addresses\n",
    "for email in email_addresses:\n",
    "    print(email)\n"
   ]
  }
 ],
 "metadata": {
  "kernelspec": {
   "display_name": "Python 3 (ipykernel)",
   "language": "python",
   "name": "python3"
  },
  "language_info": {
   "codemirror_mode": {
    "name": "ipython",
    "version": 3
   },
   "file_extension": ".py",
   "mimetype": "text/x-python",
   "name": "python",
   "nbconvert_exporter": "python",
   "pygments_lexer": "ipython3",
   "version": "3.11.5"
  }
 },
 "nbformat": 4,
 "nbformat_minor": 5
}
