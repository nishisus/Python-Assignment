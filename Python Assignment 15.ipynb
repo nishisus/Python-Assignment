{
 "cells": [
  {
   "cell_type": "markdown",
   "id": "5d0cfbb9",
   "metadata": {},
   "source": [
    "# 1. Write a Python program to find words which are greater than given length k?"
   ]
  },
  {
   "cell_type": "code",
   "execution_count": 1,
   "id": "8c511ee4",
   "metadata": {},
   "outputs": [
    {
     "name": "stdout",
     "output_type": "stream",
     "text": [
      "Words longer than 5 characters:\n",
      "['banana', 'orange', 'grapefruit']\n"
     ]
    }
   ],
   "source": [
    "def find_words_longer_than_k(words, k):\n",
    "    # Initialize an empty list to store the result\n",
    "    result = []\n",
    "    \n",
    "    # Iterate through each word in the list\n",
    "    for word in words:\n",
    "        # Check if the length of the current word is greater than k\n",
    "        if len(word) > k:\n",
    "            result.append(word)\n",
    "    \n",
    "    return result\n",
    "\n",
    "# Example usage:\n",
    "word_list = [\"apple\", \"banana\", \"orange\", \"grapefruit\", \"pear\"]\n",
    "length_threshold = 5\n",
    "\n",
    "# Find words longer than length_threshold\n",
    "long_words = find_words_longer_than_k(word_list, length_threshold)\n",
    "\n",
    "print(f\"Words longer than {length_threshold} characters:\")\n",
    "print(long_words)\n"
   ]
  },
  {
   "cell_type": "markdown",
   "id": "0042bea3",
   "metadata": {},
   "source": [
    "# 2. Write a Python program for removing i-th character from a string?"
   ]
  },
  {
   "cell_type": "code",
   "execution_count": 2,
   "id": "f59b76e8",
   "metadata": {},
   "outputs": [
    {
     "name": "stdout",
     "output_type": "stream",
     "text": [
      "Original string: hello\n",
      "String after removing character at index 2: helo\n"
     ]
    }
   ],
   "source": [
    "def remove_ith_character(s, i):\n",
    "    # Remove the i-th character using slicing\n",
    "    return s[:i] + s[i+1:]\n",
    "\n",
    "# Example usage:\n",
    "original_string = \"hello\"\n",
    "index_to_remove = 2  # Removing the character at index 2 (0-based index)\n",
    "\n",
    "new_string = remove_ith_character(original_string, index_to_remove)\n",
    "print(f\"Original string: {original_string}\")\n",
    "print(f\"String after removing character at index {index_to_remove}: {new_string}\")\n"
   ]
  },
  {
   "cell_type": "markdown",
   "id": "b845af33",
   "metadata": {},
   "source": [
    "# 3. Write a Python program to split and join a string?"
   ]
  },
  {
   "cell_type": "code",
   "execution_count": 3,
   "id": "996d0452",
   "metadata": {},
   "outputs": [
    {
     "name": "stdout",
     "output_type": "stream",
     "text": [
      "Original string: Hello, world! This is a test string.\n",
      "Split string: ['Hello,', 'world!', 'This', 'is', 'a', 'test', 'string.']\n"
     ]
    }
   ],
   "source": [
    "def split_string(s):\n",
    "    # Split the string into a list of substrings\n",
    "    substrings = s.split()\n",
    "    return substrings\n",
    "\n",
    "# Example usage:\n",
    "original_string = \"Hello, world! This is a test string.\"\n",
    "\n",
    "splitted_string = split_string(original_string)\n",
    "print(\"Original string:\", original_string)\n",
    "print(\"Split string:\", splitted_string)\n"
   ]
  },
  {
   "cell_type": "markdown",
   "id": "bbc91668",
   "metadata": {},
   "source": [
    "# 4. Write a Python to check if a given string is binary string or not?"
   ]
  },
  {
   "cell_type": "code",
   "execution_count": 4,
   "id": "bc62b677",
   "metadata": {},
   "outputs": [
    {
     "name": "stdout",
     "output_type": "stream",
     "text": [
      "101010 is binary: True\n",
      "10102 is binary: False\n"
     ]
    }
   ],
   "source": [
    "def is_binary_string(s):\n",
    "    # Set of valid binary digits\n",
    "    binary_digits = {'0', '1'}\n",
    "    \n",
    "    # Check if all characters in the string are binary digits\n",
    "    return all(char in binary_digits for char in s)\n",
    "\n",
    "# Example usage:\n",
    "test_string1 = \"101010\"\n",
    "test_string2 = \"10102\"\n",
    "\n",
    "print(f\"{test_string1} is binary:\", is_binary_string(test_string1))\n",
    "print(f\"{test_string2} is binary:\", is_binary_string(test_string2))\n"
   ]
  },
  {
   "cell_type": "markdown",
   "id": "0c98460f",
   "metadata": {},
   "source": [
    "# 5. Write a Python program to find uncommon words from two Strings?"
   ]
  },
  {
   "cell_type": "code",
   "execution_count": 5,
   "id": "c63fc54e",
   "metadata": {},
   "outputs": [
    {
     "name": "stdout",
     "output_type": "stream",
     "text": [
      "Uncommon words between 'Hello world' and 'world Python':\n",
      "['Hello', 'Python']\n"
     ]
    }
   ],
   "source": [
    "def find_uncommon_words(string1, string2):\n",
    "    # Split the strings into words\n",
    "    words1 = string1.split()\n",
    "    words2 = string2.split()\n",
    "    \n",
    "    # Convert lists of words into sets\n",
    "    set1 = set(words1)\n",
    "    set2 = set(words2)\n",
    "    \n",
    "    # Find uncommon words using set operations\n",
    "    uncommon_words = (set1 - set2) | (set2 - set1)\n",
    "    \n",
    "    return list(uncommon_words)\n",
    "\n",
    "# Example usage:\n",
    "string1 = \"Hello world\"\n",
    "string2 = \"world Python\"\n",
    "\n",
    "uncommon = find_uncommon_words(string1, string2)\n",
    "print(f\"Uncommon words between '{string1}' and '{string2}':\")\n",
    "print(uncommon)\n"
   ]
  },
  {
   "cell_type": "markdown",
   "id": "7bf4ddd3",
   "metadata": {},
   "source": [
    "# 6. Write a Python to find all duplicate characters in string?"
   ]
  },
  {
   "cell_type": "code",
   "execution_count": 6,
   "id": "5d0e5626",
   "metadata": {},
   "outputs": [
    {
     "name": "stdout",
     "output_type": "stream",
     "text": [
      "The duplicate characters in 'hello world' are:\n",
      "['l', 'o']\n"
     ]
    }
   ],
   "source": [
    "def find_duplicate_characters(s):\n",
    "    # Create an empty dictionary to store character counts\n",
    "    char_count = {}\n",
    "    duplicates = []\n",
    "\n",
    "    # Count occurrences of each character in the string\n",
    "    for char in s:\n",
    "        if char in char_count:\n",
    "            char_count[char] += 1\n",
    "        else:\n",
    "            char_count[char] = 1\n",
    "\n",
    "    # Iterate through the dictionary to find characters with count > 1\n",
    "    for char, count in char_count.items():\n",
    "        if count > 1:\n",
    "            duplicates.append(char)\n",
    "\n",
    "    return duplicates\n",
    "\n",
    "# Example usage:\n",
    "input_string = \"hello world\"\n",
    "\n",
    "duplicate_chars = find_duplicate_characters(input_string)\n",
    "print(f\"The duplicate characters in '{input_string}' are:\")\n",
    "print(duplicate_chars)\n"
   ]
  },
  {
   "cell_type": "markdown",
   "id": "e06af809",
   "metadata": {},
   "source": [
    "# 7. Write a Python Program to check if a string contains any special character?"
   ]
  },
  {
   "cell_type": "code",
   "execution_count": 7,
   "id": "42ea26f2",
   "metadata": {},
   "outputs": [
    {
     "name": "stdout",
     "output_type": "stream",
     "text": [
      "Does 'Hello, world!' contain special characters? True\n",
      "Does 'Python3' contain special characters? False\n"
     ]
    }
   ],
   "source": [
    "import string\n",
    "\n",
    "def contains_special_characters(s):\n",
    "    # Get all special characters using string.punctuation\n",
    "    special_chars = string.punctuation\n",
    "    \n",
    "    # Check if any character in the string is a special character\n",
    "    for char in s:\n",
    "        if char in special_chars:\n",
    "            return True\n",
    "    \n",
    "    return False\n",
    "\n",
    "# Example usage:\n",
    "test_string1 = \"Hello, world!\"\n",
    "test_string2 = \"Python3\"\n",
    "\n",
    "print(f\"Does '{test_string1}' contain special characters? {contains_special_characters(test_string1)}\")\n",
    "print(f\"Does '{test_string2}' contain special characters? {contains_special_characters(test_string2)}\")\n"
   ]
  }
 ],
 "metadata": {
  "kernelspec": {
   "display_name": "Python 3 (ipykernel)",
   "language": "python",
   "name": "python3"
  },
  "language_info": {
   "codemirror_mode": {
    "name": "ipython",
    "version": 3
   },
   "file_extension": ".py",
   "mimetype": "text/x-python",
   "name": "python",
   "nbconvert_exporter": "python",
   "pygments_lexer": "ipython3",
   "version": "3.11.5"
  }
 },
 "nbformat": 4,
 "nbformat_minor": 5
}
