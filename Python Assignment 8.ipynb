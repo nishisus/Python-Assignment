{
 "cells": [
  {
   "cell_type": "markdown",
   "id": "603c40b9",
   "metadata": {},
   "source": [
    "# 1. Write a Python Program to Find the Factorial of a Number?"
   ]
  },
  {
   "cell_type": "code",
   "execution_count": 1,
   "id": "03e2681c",
   "metadata": {},
   "outputs": [
    {
     "name": "stdout",
     "output_type": "stream",
     "text": [
      "Enter a number: 6\n",
      "The factorial of 6 is 720.\n"
     ]
    }
   ],
   "source": [
    "def factorial(num):\n",
    "    # Check if the number is less than 0\n",
    "    if num < 0:\n",
    "        return \"Factorial does not exist for negative numbers.\"\n",
    "    # Factorial of 0 is 1\n",
    "    elif num == 0:\n",
    "        return 1\n",
    "    else:\n",
    "        result = 1\n",
    "        for i in range(1, num + 1):\n",
    "            result *= i\n",
    "        return result\n",
    "\n",
    "try:\n",
    "    # Accept a number from the user\n",
    "    number = int(input(\"Enter a number: \"))\n",
    "    \n",
    "    # Calculate the factorial\n",
    "    result = factorial(number)\n",
    "    \n",
    "    # Print the result\n",
    "    print(f\"The factorial of {number} is {result}.\")\n",
    "except ValueError:\n",
    "    print(\"Invalid input. Please enter a valid integer.\")\n"
   ]
  },
  {
   "cell_type": "markdown",
   "id": "3927a7f8",
   "metadata": {},
   "source": [
    "# 2. Write a Python Program to Display the multiplication Table?"
   ]
  },
  {
   "cell_type": "code",
   "execution_count": 2,
   "id": "8f6e559f",
   "metadata": {},
   "outputs": [
    {
     "name": "stdout",
     "output_type": "stream",
     "text": [
      "Enter a number to display its multiplication table: 6\n",
      "Enter the range for the multiplication table (press Enter to use default 10): \n",
      "6 x 1 = 6\n",
      "6 x 2 = 12\n",
      "6 x 3 = 18\n",
      "6 x 4 = 24\n",
      "6 x 5 = 30\n",
      "6 x 6 = 36\n",
      "6 x 7 = 42\n",
      "6 x 8 = 48\n",
      "6 x 9 = 54\n",
      "6 x 10 = 60\n"
     ]
    }
   ],
   "source": [
    "def multiplication_table(num, upto=10):\n",
    "    for i in range(1, upto + 1):\n",
    "        print(f\"{num} x {i} = {num * i}\")\n",
    "\n",
    "try:\n",
    "    # Accept a number from the user\n",
    "    number = int(input(\"Enter a number to display its multiplication table: \"))\n",
    "    \n",
    "    # Optionally, accept the range for the multiplication table (default is 10)\n",
    "    upto = input(\"Enter the range for the multiplication table (press Enter to use default 10): \")\n",
    "    upto = int(upto) if upto.strip() else 10\n",
    "    \n",
    "    # Display the multiplication table\n",
    "    multiplication_table(number, upto)\n",
    "except ValueError:\n",
    "    print(\"Invalid input. Please enter a valid integer.\")\n"
   ]
  },
  {
   "cell_type": "markdown",
   "id": "da8deee2",
   "metadata": {},
   "source": [
    "# 3. Write a Python Program to Print the Fibonacci sequence?"
   ]
  },
  {
   "cell_type": "code",
   "execution_count": 3,
   "id": "7a817162",
   "metadata": {},
   "outputs": [
    {
     "name": "stdout",
     "output_type": "stream",
     "text": [
      "Enter the number of terms: 5\n",
      "Fibonacci sequence:\n",
      "0 1 1 2 3 "
     ]
    }
   ],
   "source": [
    "def fibonacci_sequence(n):\n",
    "    # Check if the input is less than or equal to 0\n",
    "    if n <= 0:\n",
    "        print(\"Please enter a positive integer\")\n",
    "    # If there is only one term, return 0\n",
    "    elif n == 1:\n",
    "        print(\"Fibonacci sequence up to\", n, \":\")\n",
    "        print(0)\n",
    "    else:\n",
    "        print(\"Fibonacci sequence:\")\n",
    "        a, b = 0, 1\n",
    "        count = 0\n",
    "        while count < n:\n",
    "            print(a, end=\" \")\n",
    "            nth = a + b\n",
    "            # update values\n",
    "            a = b\n",
    "            b = nth\n",
    "            count += 1\n",
    "\n",
    "try:\n",
    "    # Accept the number of terms from the user\n",
    "    terms = int(input(\"Enter the number of terms: \"))\n",
    "    \n",
    "    # Print the Fibonacci sequence\n",
    "    fibonacci_sequence(terms)\n",
    "except ValueError:\n",
    "    print(\"Invalid input. Please enter a valid integer.\")\n"
   ]
  },
  {
   "cell_type": "markdown",
   "id": "a0db3c0e",
   "metadata": {},
   "source": [
    "# 4. Write a Python Program to Check Armstrong Number?"
   ]
  },
  {
   "cell_type": "code",
   "execution_count": 4,
   "id": "89a72669",
   "metadata": {},
   "outputs": [
    {
     "name": "stdout",
     "output_type": "stream",
     "text": [
      "Enter a number: 6\n",
      "6 is an Armstrong number.\n"
     ]
    }
   ],
   "source": [
    "def is_armstrong_number(num):\n",
    "    # Convert the number to a string to iterate over its digits\n",
    "    num_str = str(num)\n",
    "    num_digits = len(num_str)\n",
    "    \n",
    "    # Calculate the sum of the digits raised to the power of the number of digits\n",
    "    sum_of_powers = sum(int(digit) ** num_digits for digit in num_str)\n",
    "    \n",
    "    # Check if the sum of the powers is equal to the original number\n",
    "    return sum_of_powers == num\n",
    "\n",
    "try:\n",
    "    # Accept a number from the user\n",
    "    number = int(input(\"Enter a number: \"))\n",
    "    \n",
    "    # Check if the number is an Armstrong number\n",
    "    if is_armstrong_number(number):\n",
    "        print(f\"{number} is an Armstrong number.\")\n",
    "    else:\n",
    "        print(f\"{number} is not an Armstrong number.\")\n",
    "except ValueError:\n",
    "    print(\"Invalid input. Please enter a valid integer.\")\n"
   ]
  },
  {
   "cell_type": "markdown",
   "id": "62754925",
   "metadata": {},
   "source": [
    "# 5. Write a Python Program to Find Armstrong Number in an Interval?"
   ]
  },
  {
   "cell_type": "code",
   "execution_count": 5,
   "id": "9c026c7e",
   "metadata": {},
   "outputs": [
    {
     "name": "stdout",
     "output_type": "stream",
     "text": [
      "Enter the start of the interval: 8\n",
      "Enter the end of the interval: 9\n",
      "Armstrong numbers in the interval 8 to 9 are: [8, 9]\n"
     ]
    }
   ],
   "source": [
    "def is_armstrong_number(num):\n",
    "    # Convert the number to a string to iterate over its digits\n",
    "    num_str = str(num)\n",
    "    num_digits = len(num_str)\n",
    "    \n",
    "    # Calculate the sum of the digits raised to the power of the number of digits\n",
    "    sum_of_powers = sum(int(digit) ** num_digits for digit in num_str)\n",
    "    \n",
    "    # Check if the sum of the powers is equal to the original number\n",
    "    return sum_of_powers == num\n",
    "\n",
    "def find_armstrong_numbers_in_interval(start, end):\n",
    "    armstrong_numbers = []\n",
    "    for num in range(start, end + 1):\n",
    "        if is_armstrong_number(num):\n",
    "            armstrong_numbers.append(num)\n",
    "    return armstrong_numbers\n",
    "\n",
    "try:\n",
    "    # Accept the start and end of the interval from the user\n",
    "    start = int(input(\"Enter the start of the interval: \"))\n",
    "    end = int(input(\"Enter the end of the interval: \"))\n",
    "    \n",
    "    # Find and print the Armstrong numbers in the given interval\n",
    "    armstrong_numbers = find_armstrong_numbers_in_interval(start, end)\n",
    "    if armstrong_numbers:\n",
    "        print(f\"Armstrong numbers in the interval {start} to {end} are: {armstrong_numbers}\")\n",
    "    else:\n",
    "        print(f\"There are no Armstrong numbers in the interval {start} to {end}.\")\n",
    "except ValueError:\n",
    "    print(\"Invalid input. Please enter valid integers for the interval.\")\n"
   ]
  },
  {
   "cell_type": "markdown",
   "id": "fbe8dc19",
   "metadata": {},
   "source": [
    "# 6. Write a Python Program to Find the Sum of Natural Numbers?"
   ]
  },
  {
   "cell_type": "code",
   "execution_count": 6,
   "id": "52eff82b",
   "metadata": {},
   "outputs": [
    {
     "name": "stdout",
     "output_type": "stream",
     "text": [
      "Enter the limit: 6\n",
      "The sum of natural numbers up to 6 is: 21\n"
     ]
    }
   ],
   "source": [
    "def sum_of_natural_numbers(n):\n",
    "    # Ensure that n is a positive integer\n",
    "    if n <= 0:\n",
    "        return \"Please enter a positive integer.\"\n",
    "    else:\n",
    "        return sum(range(1, n + 1))\n",
    "\n",
    "try:\n",
    "    # Accept the limit from the user\n",
    "    limit = int(input(\"Enter the limit: \"))\n",
    "    \n",
    "    # Calculate the sum of natural numbers up to the limit\n",
    "    result = sum_of_natural_numbers(limit)\n",
    "    \n",
    "    # Print the result\n",
    "    print(f\"The sum of natural numbers up to {limit} is: {result}\")\n",
    "except ValueError:\n",
    "    print(\"Invalid input. Please enter a valid integer.\")\n"
   ]
  }
 ],
 "metadata": {
  "kernelspec": {
   "display_name": "Python 3 (ipykernel)",
   "language": "python",
   "name": "python3"
  },
  "language_info": {
   "codemirror_mode": {
    "name": "ipython",
    "version": 3
   },
   "file_extension": ".py",
   "mimetype": "text/x-python",
   "name": "python",
   "nbconvert_exporter": "python",
   "pygments_lexer": "ipython3",
   "version": "3.11.5"
  }
 },
 "nbformat": 4,
 "nbformat_minor": 5
}
