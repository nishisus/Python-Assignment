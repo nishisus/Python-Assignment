{
 "cells": [
  {
   "cell_type": "markdown",
   "id": "1da80136",
   "metadata": {},
   "source": [
    "# Write a program that calculates and prints the value according to the given formula:\n",
    "Q = Square root of [(2 * C * D)/H]\n",
    "Following are the fixed values of C and H:\n",
    "C is 50. H is 30.\n",
    "D is the variable whose values should be input to your program in a comma-separated\n",
    "sequence.\n",
    "Example\n",
    "Let us assume the following comma separated input sequence is given to the program:\n",
    "100,150,180\n",
    "The output of the program should be:\n",
    "18,22,24"
   ]
  },
  {
   "cell_type": "code",
   "execution_count": 1,
   "id": "5a8cde07",
   "metadata": {},
   "outputs": [
    {
     "name": "stdout",
     "output_type": "stream",
     "text": [
      "18,22,24\n"
     ]
    }
   ],
   "source": [
    "import math\n",
    "\n",
    "def calculate_Q(input_sequence):\n",
    "    # Given constants\n",
    "    C = 50\n",
    "    H = 30\n",
    "    \n",
    "    results = []\n",
    "    \n",
    "    # Split the input sequence into individual values of D\n",
    "    values = input_sequence.split(',')\n",
    "    \n",
    "    for value in values:\n",
    "        D = int(value)\n",
    "        # Calculate Q using the formula\n",
    "        Q = math.sqrt((2 * C * D) / H)\n",
    "        # Round Q to the nearest integer and append to results\n",
    "        results.append(round(Q))\n",
    "    \n",
    "    return results\n",
    "\n",
    "# Example usage:\n",
    "input_sequence = \"100,150,180\"\n",
    "output = calculate_Q(input_sequence)\n",
    "\n",
    "# Print the output as comma-separated values\n",
    "print(','.join(map(str, output)))\n"
   ]
  },
  {
   "cell_type": "markdown",
   "id": "08f680aa",
   "metadata": {},
   "source": [
    "# Write a program which takes 2 digits, X,Y as input and generates a 2-dimensional array. The\n",
    "element value in the i-th row and j-th column of the array should be i*j.\n",
    "Note: i=0,1.., X-1; j=0,1,¡Y-1.\n",
    "Example\n",
    "Suppose the following inputs are given to the program:\n",
    "3,5\n",
    "Then, the output of the program should be:\n",
    "[[0, 0, 0, 0, 0], [0, 1, 2, 3, 4], [0, 2, 4, 6, 8]]"
   ]
  },
  {
   "cell_type": "code",
   "execution_count": 2,
   "id": "bff864d2",
   "metadata": {},
   "outputs": [
    {
     "name": "stdout",
     "output_type": "stream",
     "text": [
      "Enter two digits X and Y separated by a comma: 4,6\n",
      "[0, 0, 0, 0, 0, 0]\n",
      "[0, 1, 2, 3, 4, 5]\n",
      "[0, 2, 4, 6, 8, 10]\n",
      "[0, 3, 6, 9, 12, 15]\n"
     ]
    }
   ],
   "source": [
    "def generate_2d_array(X, Y):\n",
    "    # Initialize the 2D array\n",
    "    array = []\n",
    "    \n",
    "    # Generate the array\n",
    "    for i in range(X):\n",
    "        row = []\n",
    "        for j in range(Y):\n",
    "            row.append(i * j)\n",
    "        array.append(row)\n",
    "    \n",
    "    return array\n",
    "\n",
    "# Example usage:\n",
    "# Input two digits, X and Y\n",
    "X, Y = map(int, input(\"Enter two digits X and Y separated by a comma: \").split(','))\n",
    "\n",
    "# Generate the 2D array\n",
    "result = generate_2d_array(X, Y)\n",
    "\n",
    "# Print the 2D array\n",
    "for row in result:\n",
    "    print(row)\n"
   ]
  },
  {
   "cell_type": "markdown",
   "id": "7d371cfb",
   "metadata": {},
   "source": [
    "# Write a program that accepts a comma separated sequence of words as input and prints the\n",
    "words in a comma-separated sequence after sorting them alphabetically.\n",
    "Suppose the following input is supplied to the program:\n",
    "without,hello,bag,world\n",
    "Then, the output should be:\n",
    "bag,hello,without,world"
   ]
  },
  {
   "cell_type": "code",
   "execution_count": 3,
   "id": "70e7edd9",
   "metadata": {},
   "outputs": [
    {
     "name": "stdout",
     "output_type": "stream",
     "text": [
      "Enter a comma-separated sequence of words: a,b,c\n",
      "Sorted sequence:\n",
      "a,b,c\n"
     ]
    }
   ],
   "source": [
    "def sort_words(input_sequence):\n",
    "    # Split the input string into a list of words\n",
    "    words = input_sequence.split(',')\n",
    "    \n",
    "    # Sort the list of words alphabetically\n",
    "    sorted_words = sorted(words)\n",
    "    \n",
    "    # Join the sorted list back into a comma-separated string\n",
    "    sorted_sequence = ','.join(sorted_words)\n",
    "    \n",
    "    return sorted_sequence\n",
    "\n",
    "# Example usage:\n",
    "input_sequence = input(\"Enter a comma-separated sequence of words: \")\n",
    "\n",
    "# Sort the words and print the result\n",
    "sorted_sequence = sort_words(input_sequence)\n",
    "print(\"Sorted sequence:\")\n",
    "print(sorted_sequence)\n"
   ]
  },
  {
   "cell_type": "markdown",
   "id": "6d146b8f",
   "metadata": {},
   "source": [
    "# Write a program that accepts a sequence of whitespace separated words as input and prints\n",
    "the words after removing all duplicate words and sorting them alphanumerically.\n",
    "Suppose the following input is supplied to the program:\n",
    "hello world and practice makes perfect and hello world again\n",
    "Then, the output should be:\n",
    "again and hello makes perfect practice world"
   ]
  },
  {
   "cell_type": "code",
   "execution_count": 4,
   "id": "ead03f9c",
   "metadata": {},
   "outputs": [
    {
     "name": "stdout",
     "output_type": "stream",
     "text": [
      "Enter a sequence of whitespace-separated words: abc\n",
      "Processed sequence:\n",
      "abc\n"
     ]
    }
   ],
   "source": [
    "def process_words(input_sequence):\n",
    "    # Split the input string into a list of words\n",
    "    words = input_sequence.split()\n",
    "    \n",
    "    # Remove duplicate words by converting the list to a set\n",
    "    unique_words = set(words)\n",
    "    \n",
    "    # Sort the unique words alphanumerically\n",
    "    sorted_unique_words = sorted(unique_words)\n",
    "    \n",
    "    # Join the sorted list back into a whitespace-separated string\n",
    "    sorted_sequence = ' '.join(sorted_unique_words)\n",
    "    \n",
    "    return sorted_sequence\n",
    "\n",
    "# Example usage:\n",
    "input_sequence = input(\"Enter a sequence of whitespace-separated words: \")\n",
    "\n",
    "# Process the words and print the result\n",
    "sorted_sequence = process_words(input_sequence)\n",
    "print(\"Processed sequence:\")\n",
    "print(sorted_sequence)\n"
   ]
  },
  {
   "cell_type": "markdown",
   "id": "0e53b61b",
   "metadata": {},
   "source": [
    "# Write a program that accepts a sentence and calculate the number of letters and digits.\n",
    "Suppose the following input is supplied to the program:\n",
    "hello world! 123\n",
    "Then, the output should be:\n",
    "LETTERS 10\n",
    "\n",
    "DIGITS 3 "
   ]
  },
  {
   "cell_type": "code",
   "execution_count": 5,
   "id": "a97bf975",
   "metadata": {},
   "outputs": [
    {
     "name": "stdout",
     "output_type": "stream",
     "text": [
      "Enter a sentence: she is good\n",
      "LETTERS 9\n",
      "DIGITS 0\n"
     ]
    }
   ],
   "source": [
    "def count_letters_and_digits(sentence):\n",
    "    letters_count = 0\n",
    "    digits_count = 0\n",
    "    \n",
    "    for char in sentence:\n",
    "        if char.isalpha():\n",
    "            letters_count += 1\n",
    "        elif char.isdigit():\n",
    "            digits_count += 1\n",
    "    \n",
    "    return letters_count, digits_count\n",
    "\n",
    "# Example usage:\n",
    "sentence = input(\"Enter a sentence: \")\n",
    "\n",
    "# Calculate the number of letters and digits\n",
    "letters_count, digits_count = count_letters_and_digits(sentence)\n",
    "\n",
    "# Print the results\n",
    "print(f\"LETTERS {letters_count}\")\n",
    "print(f\"DIGITS {digits_count}\")\n"
   ]
  },
  {
   "cell_type": "markdown",
   "id": "3f9e440e",
   "metadata": {},
   "source": [
    "# A website requires the users to input username and password to register. Write a program to\n",
    "check the validity of password input by users.\n",
    "Following are the criteria for checking the password:\n",
    "1. At least 1 letter between [a-z]\n",
    "2. At least 1 number between [0-9]\n",
    "1. At least 1 letter between [A-Z]\n",
    "3. At least 1 character from [$#@]\n",
    "4. Minimum length of transaction password: 6\n",
    "5. Maximum length of transaction password: 12\n",
    "Your program should accept a sequence of comma separated passwords and will check them\n",
    "according to the above criteria. Passwords that match the criteria are to be printed, each\n",
    "separated by a comma.\n",
    "Example\n",
    "If the following passwords are given as input to the program:\n",
    "ABd1234@1,a F1#,2w3E*,2We3345\n",
    "Then, the output of the program should be:\n",
    "ABd1234@1 "
   ]
  },
  {
   "cell_type": "code",
   "execution_count": 7,
   "id": "222d9e65",
   "metadata": {},
   "outputs": [
    {
     "name": "stdout",
     "output_type": "stream",
     "text": [
      "Enter a sequence of comma-separated passwords: 112,434,55,76\n",
      "Valid passwords:\n",
      "\n"
     ]
    }
   ],
   "source": [
    "import re\n",
    "\n",
    "def is_valid_password(password):\n",
    "    # Check if the password meets the length requirements\n",
    "    if not (6 <= len(password) <= 12):\n",
    "        return False\n",
    "    \n",
    "    # Check for at least one lowercase letter\n",
    "    if not re.search(r'[a-z]', password):\n",
    "        return False\n",
    "    \n",
    "    # Check for at least one uppercase letter\n",
    "    if not re.search(r'[A-Z]', password):\n",
    "        return False\n",
    "    \n",
    "    # Check for at least one digit\n",
    "    if not re.search(r'[0-9]', password):\n",
    "        return False\n",
    "    \n",
    "    # Check for at least one special character from [$#@]\n",
    "    if not re.search(r'[$#@]', password):\n",
    "        return False\n",
    "    \n",
    "    return True\n",
    "\n",
    "def check_passwords(input_sequence):\n",
    "    passwords = input_sequence.split(',')\n",
    "    valid_passwords = [password for password in passwords if is_valid_password(password)]\n",
    "    return ','.join(valid_passwords)\n",
    "\n",
    "# Example usage:\n",
    "input_sequence = input(\"Enter a sequence of comma-separated passwords: \")\n",
    "\n",
    "# Check and print valid passwords\n",
    "valid_passwords = check_passwords(input_sequence)\n",
    "print(\"Valid passwords:\")\n",
    "print(valid_passwords)\n",
    "\n"
   ]
  }
 ],
 "metadata": {
  "kernelspec": {
   "display_name": "Python 3 (ipykernel)",
   "language": "python",
   "name": "python3"
  },
  "language_info": {
   "codemirror_mode": {
    "name": "ipython",
    "version": 3
   },
   "file_extension": ".py",
   "mimetype": "text/x-python",
   "name": "python",
   "nbconvert_exporter": "python",
   "pygments_lexer": "ipython3",
   "version": "3.11.5"
  }
 },
 "nbformat": 4,
 "nbformat_minor": 5
}
