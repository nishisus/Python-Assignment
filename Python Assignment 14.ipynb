{
 "cells": [
  {
   "cell_type": "markdown",
   "id": "0835909b",
   "metadata": {},
   "source": [
    "# 1. Write a Python program to find sum of elements in list?"
   ]
  },
  {
   "cell_type": "code",
   "execution_count": 1,
   "id": "97e6ac04",
   "metadata": {},
   "outputs": [
    {
     "name": "stdout",
     "output_type": "stream",
     "text": [
      "The sum of elements in the list [10, 20, 30, 40, 50] is: 150\n"
     ]
    }
   ],
   "source": [
    "def sum_of_elements(lst):\n",
    "    return sum(lst)\n",
    "\n",
    "# Example usage:\n",
    "my_list = [10, 20, 30, 40, 50]\n",
    "\n",
    "total_sum = sum_of_elements(my_list)\n",
    "print(f\"The sum of elements in the list {my_list} is: {total_sum}\")\n"
   ]
  },
  {
   "cell_type": "markdown",
   "id": "85b3a782",
   "metadata": {},
   "source": [
    "# 2. Write a Python program to Multiply all numbers in the list?"
   ]
  },
  {
   "cell_type": "code",
   "execution_count": 2,
   "id": "9d0c1307",
   "metadata": {},
   "outputs": [
    {
     "name": "stdout",
     "output_type": "stream",
     "text": [
      "The product of numbers in the list [1, 2, 3, 4, 5] is: 120\n"
     ]
    }
   ],
   "source": [
    "def multiply_numbers(lst):\n",
    "    result = 1\n",
    "    for num in lst:\n",
    "        result *= num\n",
    "    return result\n",
    "\n",
    "# Example usage:\n",
    "my_list = [1, 2, 3, 4, 5]\n",
    "\n",
    "total_product = multiply_numbers(my_list)\n",
    "print(f\"The product of numbers in the list {my_list} is: {total_product}\")\n"
   ]
  },
  {
   "cell_type": "markdown",
   "id": "c1e4ffc2",
   "metadata": {},
   "source": [
    "# 3. Write a Python program to find smallest number in a list?"
   ]
  },
  {
   "cell_type": "code",
   "execution_count": 3,
   "id": "cba46c97",
   "metadata": {},
   "outputs": [
    {
     "name": "stdout",
     "output_type": "stream",
     "text": [
      "The smallest number in the list [10, 5, 8, 20, 3] is: 3\n"
     ]
    }
   ],
   "source": [
    "def find_smallest_number(lst):\n",
    "    return min(lst)\n",
    "\n",
    "# Example usage:\n",
    "my_list = [10, 5, 8, 20, 3]\n",
    "\n",
    "smallest_number = find_smallest_number(my_list)\n",
    "print(f\"The smallest number in the list {my_list} is: {smallest_number}\")\n"
   ]
  },
  {
   "cell_type": "markdown",
   "id": "7c3df722",
   "metadata": {},
   "source": [
    "# 4. Write a Python program to find largest number in a list?"
   ]
  },
  {
   "cell_type": "code",
   "execution_count": 4,
   "id": "af87e852",
   "metadata": {},
   "outputs": [
    {
     "name": "stdout",
     "output_type": "stream",
     "text": [
      "The largest number in the list [10, 5, 8, 20, 3] is: 20\n"
     ]
    }
   ],
   "source": [
    "def find_largest_number(lst):\n",
    "    return max(lst)\n",
    "\n",
    "# Example usage:\n",
    "my_list = [10, 5, 8, 20, 3]\n",
    "\n",
    "largest_number = find_largest_number(my_list)\n",
    "print(f\"The largest number in the list {my_list} is: {largest_number}\")\n"
   ]
  },
  {
   "cell_type": "markdown",
   "id": "42af35e3",
   "metadata": {},
   "source": [
    "# 5. Write a Python program to find second largest number in a list?"
   ]
  },
  {
   "cell_type": "code",
   "execution_count": 5,
   "id": "824f085d",
   "metadata": {},
   "outputs": [
    {
     "name": "stdout",
     "output_type": "stream",
     "text": [
      "The second largest number in the list [10, 5, 8, 20, 3] is: 10\n"
     ]
    }
   ],
   "source": [
    "def find_second_largest(lst):\n",
    "    # Sort the list in descending order\n",
    "    sorted_lst = sorted(lst, reverse=True)\n",
    "    \n",
    "    # Return the second element\n",
    "    return sorted_lst[1] if len(sorted_lst) > 1 else None\n",
    "\n",
    "# Example usage:\n",
    "my_list = [10, 5, 8, 20, 3]\n",
    "\n",
    "second_largest = find_second_largest(my_list)\n",
    "if second_largest is not None:\n",
    "    print(f\"The second largest number in the list {my_list} is: {second_largest}\")\n",
    "else:\n",
    "    print(\"List is too small to find the second largest number.\")\n"
   ]
  },
  {
   "cell_type": "markdown",
   "id": "38c7d049",
   "metadata": {},
   "source": [
    "# 6. Write a Python program to find N largest elements from a list?"
   ]
  },
  {
   "cell_type": "code",
   "execution_count": 6,
   "id": "d7466754",
   "metadata": {},
   "outputs": [
    {
     "name": "stdout",
     "output_type": "stream",
     "text": [
      "The 3 largest elements in the list [10, 5, 8, 20, 3, 15, 7] are: [20, 15, 10]\n"
     ]
    }
   ],
   "source": [
    "def find_n_largest_elements(lst, n):\n",
    "    # Sort the list in descending order\n",
    "    sorted_lst = sorted(lst, reverse=True)\n",
    "    \n",
    "    # Return the first N elements\n",
    "    return sorted_lst[:n]\n",
    "\n",
    "# Example usage:\n",
    "my_list = [10, 5, 8, 20, 3, 15, 7]\n",
    "N = 3\n",
    "\n",
    "largest_elements = find_n_largest_elements(my_list, N)\n",
    "print(f\"The {N} largest elements in the list {my_list} are: {largest_elements}\")\n"
   ]
  },
  {
   "cell_type": "markdown",
   "id": "c0177d28",
   "metadata": {},
   "source": [
    "# 7. Write a Python program to print even numbers in a list?"
   ]
  },
  {
   "cell_type": "code",
   "execution_count": 7,
   "id": "e27353b5",
   "metadata": {},
   "outputs": [
    {
     "name": "stdout",
     "output_type": "stream",
     "text": [
      "Even numbers in the list:\n",
      "2\n",
      "4\n",
      "6\n",
      "8\n",
      "10\n"
     ]
    }
   ],
   "source": [
    "def print_even_numbers(lst):\n",
    "    for num in lst:\n",
    "        if num % 2 == 0:\n",
    "            print(num)\n",
    "\n",
    "# Example usage:\n",
    "my_list = [1, 2, 3, 4, 5, 6, 7, 8, 9, 10]\n",
    "\n",
    "print(\"Even numbers in the list:\")\n",
    "print_even_numbers(my_list)\n"
   ]
  },
  {
   "cell_type": "markdown",
   "id": "f3289a52",
   "metadata": {},
   "source": [
    "# 8. Write a Python program to print odd numbers in a List?"
   ]
  },
  {
   "cell_type": "code",
   "execution_count": 8,
   "id": "e0a36889",
   "metadata": {},
   "outputs": [
    {
     "name": "stdout",
     "output_type": "stream",
     "text": [
      "Odd numbers in the list:\n",
      "1\n",
      "3\n",
      "5\n",
      "7\n",
      "9\n"
     ]
    }
   ],
   "source": [
    "def print_odd_numbers(lst):\n",
    "    for num in lst:\n",
    "        if num % 2 != 0:\n",
    "            print(num)\n",
    "\n",
    "# Example usage:\n",
    "my_list = [1, 2, 3, 4, 5, 6, 7, 8, 9, 10]\n",
    "\n",
    "print(\"Odd numbers in the list:\")\n",
    "print_odd_numbers(my_list)\n"
   ]
  },
  {
   "cell_type": "markdown",
   "id": "9fa2fc94",
   "metadata": {},
   "source": [
    "# 9. Write a Python program to Remove empty List from List?"
   ]
  },
  {
   "cell_type": "code",
   "execution_count": 9,
   "id": "2f210d32",
   "metadata": {},
   "outputs": [
    {
     "name": "stdout",
     "output_type": "stream",
     "text": [
      "List after removing empty lists:\n",
      "[[1, 2, 3], [4, 5], [6]]\n"
     ]
    }
   ],
   "source": [
    "def remove_empty_lists(lst):\n",
    "    return [sublist for sublist in lst if sublist]\n",
    "\n",
    "# Example usage:\n",
    "my_list = [[], [1, 2, 3], [], [], [4, 5], [], [6], []]\n",
    "\n",
    "filtered_list = remove_empty_lists(my_list)\n",
    "print(\"List after removing empty lists:\")\n",
    "print(filtered_list)\n"
   ]
  },
  {
   "cell_type": "markdown",
   "id": "b56bf269",
   "metadata": {},
   "source": [
    "# 10. Write a Python program to Cloning or Copying a list?"
   ]
  },
  {
   "cell_type": "code",
   "execution_count": 10,
   "id": "07ab58d8",
   "metadata": {},
   "outputs": [
    {
     "name": "stdout",
     "output_type": "stream",
     "text": [
      "Original list: [1, 2, 3, 4, 5]\n",
      "Cloned list: [1, 2, 3, 4, 5]\n"
     ]
    }
   ],
   "source": [
    "def clone_list(lst):\n",
    "    return lst[:]\n",
    "\n",
    "# Example usage:\n",
    "original_list = [1, 2, 3, 4, 5]\n",
    "cloned_list = clone_list(original_list)\n",
    "\n",
    "print(\"Original list:\", original_list)\n",
    "print(\"Cloned list:\", cloned_list)\n"
   ]
  },
  {
   "cell_type": "markdown",
   "id": "5947504c",
   "metadata": {},
   "source": [
    "# 11. Write a Python program to Count occurrences of an element in a list? "
   ]
  },
  {
   "cell_type": "code",
   "execution_count": 11,
   "id": "a969d64e",
   "metadata": {},
   "outputs": [
    {
     "name": "stdout",
     "output_type": "stream",
     "text": [
      "The number of occurrences of 2 in the list is: 4\n"
     ]
    }
   ],
   "source": [
    "def count_occurrences(lst, element):\n",
    "    return lst.count(element)\n",
    "\n",
    "# Example usage:\n",
    "my_list = [1, 2, 3, 4, 2, 2, 3, 1, 2]\n",
    "element_to_count = 2\n",
    "\n",
    "occurrences = count_occurrences(my_list, element_to_count)\n",
    "print(f\"The number of occurrences of {element_to_count} in the list is: {occurrences}\")\n"
   ]
  }
 ],
 "metadata": {
  "kernelspec": {
   "display_name": "Python 3 (ipykernel)",
   "language": "python",
   "name": "python3"
  },
  "language_info": {
   "codemirror_mode": {
    "name": "ipython",
    "version": 3
   },
   "file_extension": ".py",
   "mimetype": "text/x-python",
   "name": "python",
   "nbconvert_exporter": "python",
   "pygments_lexer": "ipython3",
   "version": "3.11.5"
  }
 },
 "nbformat": 4,
 "nbformat_minor": 5
}
