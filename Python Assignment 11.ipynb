{
 "cells": [
  {
   "cell_type": "markdown",
   "id": "e72f6877",
   "metadata": {},
   "source": [
    "# 1. Write a Python Program to find sum of array?"
   ]
  },
  {
   "cell_type": "code",
   "execution_count": 1,
   "id": "e9b52db1",
   "metadata": {},
   "outputs": [
    {
     "name": "stdout",
     "output_type": "stream",
     "text": [
      "Enter the elements of the array separated by commas: 3,6,7,9\n",
      "The sum of the array elements is: 25\n"
     ]
    }
   ],
   "source": [
    "def sum_of_array(arr):\n",
    "    # Calculate the sum of the array elements\n",
    "    return sum(arr)\n",
    "\n",
    "def main():\n",
    "    try:\n",
    "        # Accept the array elements from the user as a comma-separated string\n",
    "        arr_input = input(\"Enter the elements of the array separated by commas: \")\n",
    "        \n",
    "        # Convert the input string to a list of integers\n",
    "        arr = list(map(int, arr_input.split(',')))\n",
    "        \n",
    "        # Calculate the sum of the array\n",
    "        result = sum_of_array(arr)\n",
    "        \n",
    "        # Display the result\n",
    "        print(f\"The sum of the array elements is: {result}\")\n",
    "    \n",
    "    except ValueError:\n",
    "        print(\"Invalid input. Please enter valid integers separated by commas.\")\n",
    "\n",
    "# Run the main function\n",
    "if __name__ == \"__main__\":\n",
    "    main()\n"
   ]
  },
  {
   "cell_type": "markdown",
   "id": "e8f0f6b2",
   "metadata": {},
   "source": [
    "# 2. Write a Python Program to find largest element in an array?"
   ]
  },
  {
   "cell_type": "code",
   "execution_count": 3,
   "id": "6a020517",
   "metadata": {},
   "outputs": [
    {
     "name": "stdout",
     "output_type": "stream",
     "text": [
      "Enter the elements of the array separated by commas: 4,7,9\n",
      "The largest element in the array is: 9\n"
     ]
    }
   ],
   "source": [
    "def find_largest_element(arr):\n",
    "    # Check if the array is empty\n",
    "    if len(arr) == 0:\n",
    "        raise ValueError(\"The array is empty. Cannot find the largest element.\")\n",
    "    \n",
    "    # Initialize the largest element as the first element of the array\n",
    "    largest = arr[0]\n",
    "    \n",
    "    # Traverse through the array and update the largest element\n",
    "    for num in arr:\n",
    "        if num > largest:\n",
    "            largest = num\n",
    "    \n",
    "    return largest\n",
    "\n",
    "def main():\n",
    "    try:\n",
    "        # Accept the array elements from the user as a comma-separated string\n",
    "        arr_input = input(\"Enter the elements of the array separated by commas: \")\n",
    "        \n",
    "        # Convert the input string to a list of integers\n",
    "        arr = list(map(int, arr_input.split(',')))\n",
    "        \n",
    "        # Find the largest element in the array\n",
    "        largest_element = find_largest_element(arr)\n",
    "        \n",
    "        # Display the result\n",
    "        print(f\"The largest element in the array is: {largest_element}\")\n",
    "    \n",
    "    except ValueError as ve:\n",
    "        print(ve)\n",
    "    except Exception as e:\n",
    "        print(f\"An error occurred: {e}\")\n",
    "\n",
    "# Run the main function\n",
    "if __name__ == \"__main__\":\n",
    "    main()\n",
    "\n"
   ]
  },
  {
   "cell_type": "markdown",
   "id": "285cb3ca",
   "metadata": {},
   "source": [
    "# 3. Write a Python Program for array rotation?"
   ]
  },
  {
   "cell_type": "code",
   "execution_count": 5,
   "id": "0c10aa5e",
   "metadata": {},
   "outputs": [
    {
     "name": "stdout",
     "output_type": "stream",
     "text": [
      "Enter the elements of the array separated by commas: 7,9,3\n",
      "Enter the number of positions to rotate the array to the left: 2\n",
      "The array after 2 left rotations is: [3, 7, 9]\n"
     ]
    }
   ],
   "source": [
    "def left_rotate_array(arr, d):\n",
    "    n = len(arr)\n",
    "    # Handle cases where the number of rotations is greater than the array length\n",
    "    d = d % n\n",
    "    \n",
    "    # Perform the rotation\n",
    "    rotated_array = arr[d:] + arr[:d]\n",
    "    return rotated_array\n",
    "\n",
    "def main():\n",
    "    try:\n",
    "        # Accept the array elements from the user as a comma-separated string\n",
    "        arr_input = input(\"Enter the elements of the array separated by commas: \")\n",
    "        \n",
    "        # Convert the input string to a list of integers\n",
    "        arr = list(map(int, arr_input.split(',')))\n",
    "        \n",
    "        # Accept the number of rotations\n",
    "        d = int(input(\"Enter the number of positions to rotate the array to the left: \"))\n",
    "        \n",
    "        # Rotate the array\n",
    "        rotated_array = left_rotate_array(arr, d)\n",
    "        \n",
    "        # Display the result\n",
    "        print(f\"The array after {d} left rotations is: {rotated_array}\")\n",
    "    \n",
    "    except ValueError:\n",
    "        print(\"Invalid input. Please enter valid integers separated by commas for the array and a valid integer for the number of rotations.\")\n",
    "\n",
    "# Run the main function\n",
    "if __name__ == \"__main__\":\n",
    "    main()\n",
    "\n",
    "\n"
   ]
  },
  {
   "cell_type": "markdown",
   "id": "afaee984",
   "metadata": {},
   "source": [
    "# 4. Write a Python Program to Split the array and add the first part to the end?"
   ]
  },
  {
   "cell_type": "code",
   "execution_count": 6,
   "id": "cc5c475b",
   "metadata": {},
   "outputs": [
    {
     "name": "stdout",
     "output_type": "stream",
     "text": [
      "Original arrays:\n",
      "[1, 2, 3, 4, 5]\n",
      "[11, 22, 33, 44, 55, 66]\n",
      "[7, 8, 9, 10]\n",
      "\n",
      "Arrays after splitting and adding the first part to the end:\n",
      "[4, 5, 1, 2, 3]\n",
      "[44, 55, 66, 11, 22, 33]\n",
      "[9, 10, 7, 8]\n"
     ]
    }
   ],
   "source": [
    "def split_and_add(arr):\n",
    "    length = len(arr)\n",
    "    if length % 2 == 0:\n",
    "        midpoint = length // 2\n",
    "    else:\n",
    "        midpoint = length // 2 + 1\n",
    "    \n",
    "    first_half = arr[:midpoint]\n",
    "    second_half = arr[midpoint:]\n",
    "    \n",
    "    # Add first_half to the end of second_half\n",
    "    arr = second_half + first_half\n",
    "    \n",
    "    return arr\n",
    "\n",
    "# Example usage:\n",
    "arr1 = [1, 2, 3, 4, 5]\n",
    "arr2 = [11, 22, 33, 44, 55, 66]\n",
    "arr3 = [7, 8, 9, 10]\n",
    "\n",
    "print(\"Original arrays:\")\n",
    "print(arr1)\n",
    "print(arr2)\n",
    "print(arr3)\n",
    "\n",
    "print(\"\\nArrays after splitting and adding the first part to the end:\")\n",
    "print(split_and_add(arr1))\n",
    "print(split_and_add(arr2))\n",
    "print(split_and_add(arr3))\n"
   ]
  },
  {
   "cell_type": "markdown",
   "id": "12d3be56",
   "metadata": {},
   "source": [
    "# 5. Write a Python Program to check if given array is Monotonic?"
   ]
  },
  {
   "cell_type": "code",
   "execution_count": 7,
   "id": "5c1b5f98",
   "metadata": {},
   "outputs": [
    {
     "name": "stdout",
     "output_type": "stream",
     "text": [
      "Is arr1 monotonic? True\n",
      "Is arr2 monotonic? True\n",
      "Is arr3 monotonic? False\n",
      "Is arr4 monotonic? True\n",
      "Is arr5 monotonic? True\n"
     ]
    }
   ],
   "source": [
    "def is_monotonic(arr):\n",
    "    increasing = True\n",
    "    decreasing = True\n",
    "    \n",
    "    # Check if the array is non-decreasing\n",
    "    for i in range(len(arr) - 1):\n",
    "        if arr[i] > arr[i + 1]:\n",
    "            increasing = False\n",
    "            break\n",
    "    \n",
    "    # Check if the array is non-increasing\n",
    "    for i in range(len(arr) - 1):\n",
    "        if arr[i] < arr[i + 1]:\n",
    "            decreasing = False\n",
    "            break\n",
    "    \n",
    "    # Return True if either increasing or decreasing is True\n",
    "    return increasing or decreasing\n",
    "\n",
    "# Example usage:\n",
    "arr1 = [1, 2, 3, 4, 5]\n",
    "arr2 = [5, 4, 3, 2, 1]\n",
    "arr3 = [1, 3, 2, 4, 5]\n",
    "arr4 = [1, 1, 1, 1, 1]\n",
    "arr5 = [1]\n",
    "\n",
    "print(\"Is arr1 monotonic?\", is_monotonic(arr1))  # True\n",
    "print(\"Is arr2 monotonic?\", is_monotonic(arr2))  # True\n",
    "print(\"Is arr3 monotonic?\", is_monotonic(arr3))  # False\n",
    "print(\"Is arr4 monotonic?\", is_monotonic(arr4))  # True\n",
    "print(\"Is arr5 monotonic?\", is_monotonic(arr5))  # True\n"
   ]
  }
 ],
 "metadata": {
  "kernelspec": {
   "display_name": "Python 3 (ipykernel)",
   "language": "python",
   "name": "python3"
  },
  "language_info": {
   "codemirror_mode": {
    "name": "ipython",
    "version": 3
   },
   "file_extension": ".py",
   "mimetype": "text/x-python",
   "name": "python",
   "nbconvert_exporter": "python",
   "pygments_lexer": "ipython3",
   "version": "3.11.5"
  }
 },
 "nbformat": 4,
 "nbformat_minor": 5
}
