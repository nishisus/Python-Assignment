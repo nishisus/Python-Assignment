{
 "cells": [
  {
   "cell_type": "markdown",
   "id": "acbcbd09",
   "metadata": {},
   "source": [
    "# 1. Write a Python program to convert kilometers to miles?"
   ]
  },
  {
   "cell_type": "code",
   "execution_count": 1,
   "id": "da38c21d",
   "metadata": {},
   "outputs": [
    {
     "name": "stdout",
     "output_type": "stream",
     "text": [
      "Enter distance in kilometers: 9\n",
      "9.0 kilometers is equal to 5.592339 miles.\n"
     ]
    }
   ],
   "source": [
    "def km_to_miles(kilometers):\n",
    "    # 1 kilometer is equal to 0.621371 miles\n",
    "    miles = kilometers * 0.621371\n",
    "    return miles\n",
    "\n",
    "try:\n",
    "    # Accept kilometers from the user\n",
    "    kilometers = float(input(\"Enter distance in kilometers: \"))\n",
    "    \n",
    "    # Convert kilometers to miles\n",
    "    miles = km_to_miles(kilometers)\n",
    "    \n",
    "    # Print the result\n",
    "    print(f\"{kilometers} kilometers is equal to {miles} miles.\")\n",
    "except ValueError:\n",
    "    print(\"Invalid input. Please enter a valid number for kilometers.\")\n"
   ]
  },
  {
   "cell_type": "markdown",
   "id": "08be065d",
   "metadata": {},
   "source": [
    "# 2. Write a Python program to convert Celsius to Fahrenheit?"
   ]
  },
  {
   "cell_type": "code",
   "execution_count": 2,
   "id": "4871f86a",
   "metadata": {},
   "outputs": [
    {
     "name": "stdout",
     "output_type": "stream",
     "text": [
      "Enter temperature in Celsius: 55\n",
      "55.0 degrees Celsius is equal to 131.0 degrees Fahrenheit.\n"
     ]
    }
   ],
   "source": [
    "def celsius_to_fahrenheit(celsius):\n",
    "    # Formula to convert Celsius to Fahrenheit: (Celsius * 9/5) + 32\n",
    "    fahrenheit = (celsius * 9/5) + 32\n",
    "    return fahrenheit\n",
    "\n",
    "try:\n",
    "    # Accept temperature in Celsius from the user\n",
    "    celsius = float(input(\"Enter temperature in Celsius: \"))\n",
    "    \n",
    "    # Convert Celsius to Fahrenheit\n",
    "    fahrenheit = celsius_to_fahrenheit(celsius)\n",
    "    \n",
    "    # Print the result\n",
    "    print(f\"{celsius} degrees Celsius is equal to {fahrenheit} degrees Fahrenheit.\")\n",
    "except ValueError:\n",
    "    print(\"Invalid input. Please enter a valid number for temperature in Celsius.\")\n"
   ]
  },
  {
   "cell_type": "markdown",
   "id": "f8e6528c",
   "metadata": {},
   "source": [
    "# 3. Write a Python program to display calendar?"
   ]
  },
  {
   "cell_type": "code",
   "execution_count": 3,
   "id": "8dbfd6ef",
   "metadata": {},
   "outputs": [
    {
     "name": "stdout",
     "output_type": "stream",
     "text": [
      "Enter the year: 2022\n",
      "Enter the month (1-12): 8\n",
      "\n",
      "Calendar:\n",
      "    August 2022\n",
      "Mo Tu We Th Fr Sa Su\n",
      " 1  2  3  4  5  6  7\n",
      " 8  9 10 11 12 13 14\n",
      "15 16 17 18 19 20 21\n",
      "22 23 24 25 26 27 28\n",
      "29 30 31\n",
      "\n"
     ]
    }
   ],
   "source": [
    "import calendar\n",
    "\n",
    "try:\n",
    "    # Accept year and month from the user\n",
    "    year = int(input(\"Enter the year: \"))\n",
    "    month = int(input(\"Enter the month (1-12): \"))\n",
    "    \n",
    "    # Print the calendar for the specified year and month\n",
    "    print(\"\\nCalendar:\")\n",
    "    print(calendar.month(year, month))\n",
    "except ValueError:\n",
    "    print(\"Invalid input. Please enter valid integers for year and month.\")\n"
   ]
  },
  {
   "cell_type": "markdown",
   "id": "01d12dab",
   "metadata": {},
   "source": [
    "# 4. Write a Python program to solve quadratic equation?"
   ]
  },
  {
   "cell_type": "code",
   "execution_count": 4,
   "id": "5e3450d9",
   "metadata": {},
   "outputs": [
    {
     "name": "stdout",
     "output_type": "stream",
     "text": [
      "Enter the coefficient of x^2 (a): 6\n",
      "Enter the coefficient of x (b): 7\n",
      "Enter the constant term (c): 9\n",
      "\n",
      "Roots:\n",
      "Root 1: (-0.5833333333333334+1.076903998610007j)\n",
      "Root 2: (-0.5833333333333334-1.076903998610007j)\n"
     ]
    }
   ],
   "source": [
    "import math\n",
    "\n",
    "def solve_quadratic(a, b, c):\n",
    "    # Calculate the discriminant\n",
    "    discriminant = b**2 - 4*a*c\n",
    "    \n",
    "    # Check if the discriminant is positive, negative, or zero\n",
    "    if discriminant > 0:\n",
    "        # Two real and distinct roots\n",
    "        root1 = (-b + math.sqrt(discriminant)) / (2*a)\n",
    "        root2 = (-b - math.sqrt(discriminant)) / (2*a)\n",
    "        return root1, root2\n",
    "    elif discriminant == 0:\n",
    "        # One real root (both roots are the same)\n",
    "        root = -b / (2*a)\n",
    "        return root, root\n",
    "    else:\n",
    "        # No real roots (complex roots)\n",
    "        real_part = -b / (2*a)\n",
    "        imaginary_part = math.sqrt(abs(discriminant)) / (2*a)\n",
    "        root1 = complex(real_part, imaginary_part)\n",
    "        root2 = complex(real_part, -imaginary_part)\n",
    "        return root1, root2\n",
    "\n",
    "try:\n",
    "    # Accept coefficients from the user\n",
    "    a = float(input(\"Enter the coefficient of x^2 (a): \"))\n",
    "    b = float(input(\"Enter the coefficient of x (b): \"))\n",
    "    c = float(input(\"Enter the constant term (c): \"))\n",
    "    \n",
    "    # Check if the quadratic equation has real roots or complex roots\n",
    "    roots = solve_quadratic(a, b, c)\n",
    "    \n",
    "    # Print the roots\n",
    "    print(\"\\nRoots:\")\n",
    "    if isinstance(roots[0], complex):\n",
    "        print(f\"Root 1: {roots[0]}\")\n",
    "        print(f\"Root 2: {roots[1]}\")\n",
    "    else:\n",
    "        print(f\"Root 1: {roots[0]}\")\n",
    "        print(f\"Root 2: {roots[1]}\")\n",
    "except ValueError:\n",
    "    print(\"Invalid input. Please enter valid numbers for coefficients.\")\n"
   ]
  },
  {
   "cell_type": "markdown",
   "id": "8bac786e",
   "metadata": {},
   "source": [
    "# 5. Write a Python program to swap two variables without temp variable?"
   ]
  },
  {
   "cell_type": "code",
   "execution_count": 5,
   "id": "18a1f0d1",
   "metadata": {},
   "outputs": [
    {
     "name": "stdout",
     "output_type": "stream",
     "text": [
      "Before swapping:\n",
      "x = 5\n",
      "y = 10\n",
      "After swapping:\n",
      "x = 10\n",
      "y = 5\n"
     ]
    }
   ],
   "source": [
    "def swap_arithmetic(a, b):\n",
    "    a = a + b\n",
    "    b = a - b\n",
    "    a = a - b\n",
    "    return a, b\n",
    "\n",
    "# Test the function\n",
    "x = 5\n",
    "y = 10\n",
    "print(\"Before swapping:\")\n",
    "print(\"x =\", x)\n",
    "print(\"y =\", y)\n",
    "x, y = swap_arithmetic(x, y)\n",
    "print(\"After swapping:\")\n",
    "print(\"x =\", x)\n",
    "print(\"y =\", y)\n"
   ]
  }
 ],
 "metadata": {
  "kernelspec": {
   "display_name": "Python 3 (ipykernel)",
   "language": "python",
   "name": "python3"
  },
  "language_info": {
   "codemirror_mode": {
    "name": "ipython",
    "version": 3
   },
   "file_extension": ".py",
   "mimetype": "text/x-python",
   "name": "python",
   "nbconvert_exporter": "python",
   "pygments_lexer": "ipython3",
   "version": "3.11.5"
  }
 },
 "nbformat": 4,
 "nbformat_minor": 5
}
