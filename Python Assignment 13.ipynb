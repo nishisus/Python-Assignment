{
 "cells": [
  {
   "cell_type": "markdown",
   "id": "67866c11",
   "metadata": {},
   "source": [
    "# 1. Write a Python program to check if the given number is a Disarium Number?"
   ]
  },
  {
   "cell_type": "code",
   "execution_count": 1,
   "id": "b4756c01",
   "metadata": {},
   "outputs": [
    {
     "name": "stdout",
     "output_type": "stream",
     "text": [
      "175 is a Disarium number\n"
     ]
    }
   ],
   "source": [
    "def is_disarium_number(number):\n",
    "    # Convert number to string to iterate through digits\n",
    "    str_num = str(number)\n",
    "    n = len(str_num)\n",
    "    \n",
    "    # Calculate sum of digits raised to their respective positions\n",
    "    sum_digits = sum(int(str_num[i])**(i+1) for i in range(n))\n",
    "    \n",
    "    # Check if sum equals the number\n",
    "    return sum_digits == number\n",
    "\n",
    "# Example usage:\n",
    "num = 175\n",
    "\n",
    "if is_disarium_number(num):\n",
    "    print(f\"{num} is a Disarium number\")\n",
    "else:\n",
    "    print(f\"{num} is not a Disarium number\")\n"
   ]
  },
  {
   "cell_type": "markdown",
   "id": "b7761048",
   "metadata": {},
   "source": [
    "# 2. Write a Python program to print all disarium numbers between 1 to 100?"
   ]
  },
  {
   "cell_type": "code",
   "execution_count": 2,
   "id": "3afdc0a0",
   "metadata": {},
   "outputs": [
    {
     "name": "stdout",
     "output_type": "stream",
     "text": [
      "Disarium numbers between 1 and 100:\n",
      "[1, 2, 3, 4, 5, 6, 7, 8, 9, 89]\n"
     ]
    }
   ],
   "source": [
    "def is_disarium_number(number):\n",
    "    # Convert number to string to iterate through digits\n",
    "    str_num = str(number)\n",
    "    n = len(str_num)\n",
    "    \n",
    "    # Calculate sum of digits raised to their respective positions\n",
    "    sum_digits = sum(int(str_num[i])**(i+1) for i in range(n))\n",
    "    \n",
    "    # Check if sum equals the number\n",
    "    return sum_digits == number\n",
    "\n",
    "def find_disarium_numbers(limit):\n",
    "    disarium_numbers = []\n",
    "    \n",
    "    # Iterate through numbers from 1 to limit\n",
    "    for num in range(1, limit + 1):\n",
    "        if is_disarium_number(num):\n",
    "            disarium_numbers.append(num)\n",
    "    \n",
    "    return disarium_numbers\n",
    "\n",
    "# Example usage to find Disarium numbers between 1 and 100\n",
    "lower_limit = 1\n",
    "upper_limit = 100\n",
    "\n",
    "disarium_numbers = find_disarium_numbers(upper_limit)\n",
    "\n",
    "print(f\"Disarium numbers between {lower_limit} and {upper_limit}:\")\n",
    "print(disarium_numbers)\n"
   ]
  },
  {
   "cell_type": "markdown",
   "id": "94eed752",
   "metadata": {},
   "source": [
    "# 3. Write a Python program to check if the given number is Happy Number?"
   ]
  },
  {
   "cell_type": "code",
   "execution_count": 3,
   "id": "45db6e73",
   "metadata": {},
   "outputs": [
    {
     "name": "stdout",
     "output_type": "stream",
     "text": [
      "19 is a Happy number\n"
     ]
    }
   ],
   "source": [
    "def is_happy_number(number):\n",
    "    seen = set()\n",
    "    while number != 1 and number not in seen:\n",
    "        seen.add(number)\n",
    "        number = sum(int(digit)**2 for digit in str(number))\n",
    "    return number == 1\n",
    "\n",
    "# Example usage:\n",
    "num = 19\n",
    "\n",
    "if is_happy_number(num):\n",
    "    print(f\"{num} is a Happy number\")\n",
    "else:\n",
    "    print(f\"{num} is not a Happy number\")\n"
   ]
  },
  {
   "cell_type": "markdown",
   "id": "e10bb167",
   "metadata": {},
   "source": [
    "# 4. Write a Python program to print all happy numbers between 1 and 100?"
   ]
  },
  {
   "cell_type": "code",
   "execution_count": 4,
   "id": "e6f825a2",
   "metadata": {},
   "outputs": [
    {
     "name": "stdout",
     "output_type": "stream",
     "text": [
      "Happy numbers between 1 and 100:\n",
      "[1, 7, 10, 13, 19, 23, 28, 31, 32, 44, 49, 68, 70, 79, 82, 86, 91, 94, 97, 100]\n"
     ]
    }
   ],
   "source": [
    "def is_happy_number(number):\n",
    "    seen = set()\n",
    "    while number != 1 and number not in seen:\n",
    "        seen.add(number)\n",
    "        number = sum(int(digit)**2 for digit in str(number))\n",
    "    return number == 1\n",
    "\n",
    "def find_happy_numbers(limit):\n",
    "    happy_numbers = []\n",
    "    for num in range(1, limit + 1):\n",
    "        if is_happy_number(num):\n",
    "            happy_numbers.append(num)\n",
    "    return happy_numbers\n",
    "\n",
    "# Example usage to find happy numbers between 1 and 100\n",
    "lower_limit = 1\n",
    "upper_limit = 100\n",
    "\n",
    "happy_numbers = find_happy_numbers(upper_limit)\n",
    "\n",
    "print(f\"Happy numbers between {lower_limit} and {upper_limit}:\")\n",
    "print(happy_numbers)\n"
   ]
  },
  {
   "cell_type": "markdown",
   "id": "52dedc6b",
   "metadata": {},
   "source": [
    "# 5. Write a Python program to determine whether the given number is a Harshad Number?"
   ]
  },
  {
   "cell_type": "code",
   "execution_count": 5,
   "id": "15059ee0",
   "metadata": {},
   "outputs": [
    {
     "name": "stdout",
     "output_type": "stream",
     "text": [
      "18 is a Harshad number\n"
     ]
    }
   ],
   "source": [
    "def is_harshad_number(number):\n",
    "    # Calculate the sum of digits of the number\n",
    "    sum_digits = sum(int(digit) for digit in str(number))\n",
    "    \n",
    "    # Check if the number is divisible by the sum of its digits\n",
    "    return number % sum_digits == 0\n",
    "\n",
    "# Example usage:\n",
    "num = 18\n",
    "\n",
    "if is_harshad_number(num):\n",
    "    print(f\"{num} is a Harshad number\")\n",
    "else:\n",
    "    print(f\"{num} is not a Harshad number\")\n"
   ]
  },
  {
   "cell_type": "markdown",
   "id": "371d94fe",
   "metadata": {},
   "source": [
    "# 6. Write a Python program to print all pronic numbers between 1 and 100? "
   ]
  },
  {
   "cell_type": "code",
   "execution_count": 6,
   "id": "2bdf16e5",
   "metadata": {},
   "outputs": [
    {
     "name": "stdout",
     "output_type": "stream",
     "text": [
      "Pronic numbers between 1 and 100:\n",
      "[2, 6, 12, 20, 30, 42, 56, 72, 90]\n"
     ]
    }
   ],
   "source": [
    "def is_pronic_number(number):\n",
    "    # Iterate through numbers from 1 to sqrt(number)\n",
    "    for n in range(1, int(number**0.5) + 1):\n",
    "        # Check if n * (n + 1) equals the number\n",
    "        if n * (n + 1) == number:\n",
    "            return True\n",
    "    return False\n",
    "\n",
    "def find_pronic_numbers(limit):\n",
    "    pronic_numbers = []\n",
    "    for num in range(1, limit + 1):\n",
    "        if is_pronic_number(num):\n",
    "            pronic_numbers.append(num)\n",
    "    return pronic_numbers\n",
    "\n",
    "# Example usage to find pronic numbers between 1 and 100\n",
    "lower_limit = 1\n",
    "upper_limit = 100\n",
    "\n",
    "pronic_numbers = find_pronic_numbers(upper_limit)\n",
    "\n",
    "print(f\"Pronic numbers between {lower_limit} and {upper_limit}:\")\n",
    "print(pronic_numbers)\n"
   ]
  }
 ],
 "metadata": {
  "kernelspec": {
   "display_name": "Python 3 (ipykernel)",
   "language": "python",
   "name": "python3"
  },
  "language_info": {
   "codemirror_mode": {
    "name": "ipython",
    "version": 3
   },
   "file_extension": ".py",
   "mimetype": "text/x-python",
   "name": "python",
   "nbconvert_exporter": "python",
   "pygments_lexer": "ipython3",
   "version": "3.11.5"
  }
 },
 "nbformat": 4,
 "nbformat_minor": 5
}
