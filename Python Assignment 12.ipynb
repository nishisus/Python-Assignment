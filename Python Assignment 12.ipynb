{
 "cells": [
  {
   "cell_type": "markdown",
   "id": "bd2c260c",
   "metadata": {},
   "source": [
    "# 1. Write a Python Program to Add Two Matrices?"
   ]
  },
  {
   "cell_type": "code",
   "execution_count": 1,
   "id": "3444a7e9",
   "metadata": {},
   "outputs": [
    {
     "name": "stdout",
     "output_type": "stream",
     "text": [
      "Matrix 1:\n",
      "[1, 2, 3]\n",
      "[4, 5, 6]\n",
      "[7, 8, 9]\n",
      "\n",
      "Matrix 2:\n",
      "[9, 8, 7]\n",
      "[6, 5, 4]\n",
      "[3, 2, 1]\n",
      "\n",
      "Resultant Matrix (Matrix 1 + Matrix 2):\n",
      "[10, 10, 10]\n",
      "[10, 10, 10]\n",
      "[10, 10, 10]\n"
     ]
    }
   ],
   "source": [
    "def add_matrices(matrix1, matrix2):\n",
    "    # Check if dimensions of both matrices are the same\n",
    "    if len(matrix1) != len(matrix2) or len(matrix1[0]) != len(matrix2[0]):\n",
    "        raise ValueError(\"Matrices must have the same dimensions to be added.\")\n",
    "\n",
    "    # Initialize result matrix with zeros\n",
    "    result = [[0 for col in range(len(matrix1[0]))] for row in range(len(matrix1))]\n",
    "    \n",
    "    # Perform addition element-wise\n",
    "    for i in range(len(matrix1)):\n",
    "        for j in range(len(matrix1[0])):\n",
    "            result[i][j] = matrix1[i][j] + matrix2[i][j]\n",
    "    \n",
    "    return result\n",
    "\n",
    "# Example usage:\n",
    "matrix1 = [[1, 2, 3],\n",
    "           [4, 5, 6],\n",
    "           [7, 8, 9]]\n",
    "\n",
    "matrix2 = [[9, 8, 7],\n",
    "           [6, 5, 4],\n",
    "           [3, 2, 1]]\n",
    "\n",
    "print(\"Matrix 1:\")\n",
    "for row in matrix1:\n",
    "    print(row)\n",
    "\n",
    "print(\"\\nMatrix 2:\")\n",
    "for row in matrix2:\n",
    "    print(row)\n",
    "\n",
    "result_matrix = add_matrices(matrix1, matrix2)\n",
    "\n",
    "print(\"\\nResultant Matrix (Matrix 1 + Matrix 2):\")\n",
    "for row in result_matrix:\n",
    "    print(row)\n"
   ]
  },
  {
   "cell_type": "markdown",
   "id": "bc1920b3",
   "metadata": {},
   "source": [
    "# 2. Write a Python Program to Multiply Two Matrices?"
   ]
  },
  {
   "cell_type": "code",
   "execution_count": 2,
   "id": "343d8ae4",
   "metadata": {},
   "outputs": [
    {
     "name": "stdout",
     "output_type": "stream",
     "text": [
      "Matrix 1:\n",
      "[1, 2, 3]\n",
      "[4, 5, 6]\n",
      "\n",
      "Matrix 2:\n",
      "[7, 8]\n",
      "[9, 10]\n",
      "[11, 12]\n",
      "\n",
      "Resultant Matrix (Matrix 1 * Matrix 2):\n",
      "[58, 64]\n",
      "[139, 154]\n"
     ]
    }
   ],
   "source": [
    "def multiply_matrices(matrix1, matrix2):\n",
    "    # Check dimensions\n",
    "    if len(matrix1[0]) != len(matrix2):\n",
    "        raise ValueError(\"Number of columns in Matrix 1 must be equal to number of rows in Matrix 2.\")\n",
    "\n",
    "    # Initialize result matrix with zeros\n",
    "    result = [[0 for col in range(len(matrix2[0]))] for row in range(len(matrix1))]\n",
    "\n",
    "    # Perform multiplication\n",
    "    for i in range(len(matrix1)):\n",
    "        for j in range(len(matrix2[0])):\n",
    "            for k in range(len(matrix2)):\n",
    "                result[i][j] += matrix1[i][k] * matrix2[k][j]\n",
    "\n",
    "    return result\n",
    "\n",
    "# Example usage:\n",
    "matrix1 = [[1, 2, 3],\n",
    "           [4, 5, 6]]\n",
    "\n",
    "matrix2 = [[7, 8],\n",
    "           [9, 10],\n",
    "           [11, 12]]\n",
    "\n",
    "print(\"Matrix 1:\")\n",
    "for row in matrix1:\n",
    "    print(row)\n",
    "\n",
    "print(\"\\nMatrix 2:\")\n",
    "for row in matrix2:\n",
    "    print(row)\n",
    "\n",
    "result_matrix = multiply_matrices(matrix1, matrix2)\n",
    "\n",
    "print(\"\\nResultant Matrix (Matrix 1 * Matrix 2):\")\n",
    "for row in result_matrix:\n",
    "    print(row)\n"
   ]
  },
  {
   "cell_type": "markdown",
   "id": "dcc07ab2",
   "metadata": {},
   "source": [
    "# 3. Write a Python Program to Transpose a Matrix?\n"
   ]
  },
  {
   "cell_type": "code",
   "execution_count": 3,
   "id": "e15146c5",
   "metadata": {},
   "outputs": [
    {
     "name": "stdout",
     "output_type": "stream",
     "text": [
      "Original Matrix:\n",
      "[1, 2, 3]\n",
      "[4, 5, 6]\n",
      "\n",
      "Transposed Matrix:\n",
      "[1, 4]\n",
      "[2, 5]\n",
      "[3, 6]\n"
     ]
    }
   ],
   "source": [
    "def transpose_matrix(matrix):\n",
    "    # Determine dimensions of the original matrix\n",
    "    rows = len(matrix)\n",
    "    cols = len(matrix[0])\n",
    "    \n",
    "    # Initialize a new matrix for the transpose\n",
    "    transpose = [[0 for row in range(rows)] for col in range(cols)]\n",
    "    \n",
    "    # Fill the transpose matrix\n",
    "    for i in range(rows):\n",
    "        for j in range(cols):\n",
    "            transpose[j][i] = matrix[i][j]\n",
    "    \n",
    "    return transpose\n",
    "\n",
    "# Example usage:\n",
    "matrix = [[1, 2, 3],\n",
    "          [4, 5, 6]]\n",
    "\n",
    "print(\"Original Matrix:\")\n",
    "for row in matrix:\n",
    "    print(row)\n",
    "\n",
    "transposed_matrix = transpose_matrix(matrix)\n",
    "\n",
    "print(\"\\nTransposed Matrix:\")\n",
    "for row in transposed_matrix:\n",
    "    print(row)\n"
   ]
  },
  {
   "cell_type": "markdown",
   "id": "5bf9a25e",
   "metadata": {},
   "source": [
    "# 4. Write a Python Program to Sort Words in Alphabetic Order?\n"
   ]
  },
  {
   "cell_type": "code",
   "execution_count": 4,
   "id": "3d2a1ac0",
   "metadata": {},
   "outputs": [
    {
     "name": "stdout",
     "output_type": "stream",
     "text": [
      "Original Sentence:\n",
      "Python Program to Sort Words in Alphabetic Order\n",
      "\n",
      "Sorted Sentence:\n",
      "Alphabetic Order Program Python Sort Words in to\n"
     ]
    }
   ],
   "source": [
    "def sort_words_in_alphabetical_order(sentence):\n",
    "    # Split the sentence into words\n",
    "    words = sentence.split()\n",
    "\n",
    "    # Sort the words alphabetically\n",
    "    words.sort()\n",
    "\n",
    "    # Join the sorted words back into a single string\n",
    "    sorted_sentence = ' '.join(words)\n",
    "\n",
    "    return sorted_sentence\n",
    "\n",
    "# Example usage:\n",
    "input_sentence = \"Python Program to Sort Words in Alphabetic Order\"\n",
    "sorted_sentence = sort_words_in_alphabetical_order(input_sentence)\n",
    "\n",
    "print(\"Original Sentence:\")\n",
    "print(input_sentence)\n",
    "\n",
    "print(\"\\nSorted Sentence:\")\n",
    "print(sorted_sentence)\n"
   ]
  },
  {
   "cell_type": "markdown",
   "id": "1fd33f66",
   "metadata": {},
   "source": [
    "# 5. Write a Python Program to Remove Punctuation From a String? "
   ]
  },
  {
   "cell_type": "code",
   "execution_count": 5,
   "id": "384c285e",
   "metadata": {},
   "outputs": [
    {
     "name": "stdout",
     "output_type": "stream",
     "text": [
      "Original String:\n",
      "Hello! How are you doing today? I'm doing great, thank-you!\n",
      "\n",
      "String without Punctuation:\n",
      "Hello How are you doing today Im doing great thankyou\n"
     ]
    }
   ],
   "source": [
    "import string\n",
    "\n",
    "def remove_punctuation(input_string):\n",
    "    # Define the set of punctuation characters\n",
    "    punctuations = string.punctuation\n",
    "    \n",
    "    # Initialize a translation table\n",
    "    translator = str.maketrans('', '', punctuations)\n",
    "    \n",
    "    # Remove punctuation characters from the string\n",
    "    clean_string = input_string.translate(translator)\n",
    "    \n",
    "    return clean_string\n",
    "\n",
    "# Example usage:\n",
    "input_string = \"Hello! How are you doing today? I'm doing great, thank-you!\"\n",
    "\n",
    "print(\"Original String:\")\n",
    "print(input_string)\n",
    "\n",
    "clean_string = remove_punctuation(input_string)\n",
    "\n",
    "print(\"\\nString without Punctuation:\")\n",
    "print(clean_string)\n"
   ]
  }
 ],
 "metadata": {
  "kernelspec": {
   "display_name": "Python 3 (ipykernel)",
   "language": "python",
   "name": "python3"
  },
  "language_info": {
   "codemirror_mode": {
    "name": "ipython",
    "version": 3
   },
   "file_extension": ".py",
   "mimetype": "text/x-python",
   "name": "python",
   "nbconvert_exporter": "python",
   "pygments_lexer": "ipython3",
   "version": "3.11.5"
  }
 },
 "nbformat": 4,
 "nbformat_minor": 5
}
