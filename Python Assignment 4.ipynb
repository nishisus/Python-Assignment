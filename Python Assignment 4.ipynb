{
 "cells": [
  {
   "cell_type": "markdown",
   "id": "50e6e097",
   "metadata": {},
   "source": [
    "# Write a Python program that generates a random number between 1 and 100.\n",
    "The user should then repeatedly guess the number until they guess it correctly.\n",
    "After each guess, the program should provide feedback to the user, indicating\n",
    "whether their guess is too high, too low, or correct. Once the correct number is\n",
    "guessed, the program should print the number of attempts it took the user to\n",
    "guess the correct number. "
   ]
  },
  {
   "cell_type": "code",
   "execution_count": 1,
   "id": "f7f72e06",
   "metadata": {},
   "outputs": [
    {
     "name": "stdout",
     "output_type": "stream",
     "text": [
      "Welcome to the number guessing game!\n",
      "I have selected a number between 1 and 100. Try to guess it!\n",
      "Enter your guess: 2\n",
      "Too low! Try again.\n",
      "Enter your guess: 78\n",
      "Too high! Try again.\n",
      "Enter your guess: 34\n",
      "Too low! Try again.\n",
      "Enter your guess: 49\n",
      "Too high! Try again.\n",
      "Enter your guess: 45\n",
      "Too high! Try again.\n",
      "Enter your guess: 40\n",
      "Too low! Try again.\n",
      "Enter your guess: 47\n",
      "Too high! Try again.\n",
      "Enter your guess: 46\n",
      "Too high! Try again.\n",
      "Enter your guess: 44\n",
      "Too high! Try again.\n",
      "Enter your guess: 43\n",
      "Congratulations! You've guessed the correct number: 43\n",
      "It took you 10 attempts to guess the correct number.\n"
     ]
    }
   ],
   "source": [
    "import random\n",
    "\n",
    "def guess_the_number():\n",
    "    # Generate a random number between 1 and 100\n",
    "    number_to_guess = random.randint(1, 100)\n",
    "    attempts = 0\n",
    "    guessed_correctly = False\n",
    "\n",
    "    print(\"Welcome to the number guessing game!\")\n",
    "    print(\"I have selected a number between 1 and 100. Try to guess it!\")\n",
    "\n",
    "    while not guessed_correctly:\n",
    "        # Ask the user to enter their guess\n",
    "        try:\n",
    "            guess = int(input(\"Enter your guess: \"))\n",
    "            attempts += 1\n",
    "\n",
    "            if guess < number_to_guess:\n",
    "                print(\"Too low! Try again.\")\n",
    "            elif guess > number_to_guess:\n",
    "                print(\"Too high! Try again.\")\n",
    "            else:\n",
    "                print(f\"Congratulations! You've guessed the correct number: {number_to_guess}\")\n",
    "                guessed_correctly = True\n",
    "        except ValueError:\n",
    "            print(\"Invalid input. Please enter a number between 1 and 100.\")\n",
    "    \n",
    "    print(f\"It took you {attempts} attempts to guess the correct number.\")\n",
    "\n",
    "# Run the game\n",
    "guess_the_number()\n"
   ]
  }
 ],
 "metadata": {
  "kernelspec": {
   "display_name": "Python 3 (ipykernel)",
   "language": "python",
   "name": "python3"
  },
  "language_info": {
   "codemirror_mode": {
    "name": "ipython",
    "version": 3
   },
   "file_extension": ".py",
   "mimetype": "text/x-python",
   "name": "python",
   "nbconvert_exporter": "python",
   "pygments_lexer": "ipython3",
   "version": "3.11.5"
  }
 },
 "nbformat": 4,
 "nbformat_minor": 5
}
