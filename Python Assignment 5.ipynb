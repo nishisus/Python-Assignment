{
 "cells": [
  {
   "cell_type": "markdown",
   "id": "f47601c3",
   "metadata": {},
   "source": [
    "# Write a program to calculate the electricity bill\n",
    "using only if statement? (accept number of unit from user)\n",
    "according to the following criteria:\n",
    "\n",
    "Unit Price\n",
    "First 100 units no charge\n",
    "Next 100 units Rs 5 per unit\n",
    "After 200 units Rs 10 per unit\n",
    "(For example, if input unit is 350 than total bill amount is Rs2000). Lets explain...\n",
    "For first 100 no charges\n",
    "Now you have 250 unit remaining\n",
    "100-200 you need to pay – 100*5 = 500\n",
    "Now 200-100 you need to pay 150*10 = 1500\n",
    "Total = 500+1500 = 2000"
   ]
  },
  {
   "cell_type": "code",
   "execution_count": 1,
   "id": "922e1225",
   "metadata": {},
   "outputs": [
    {
     "name": "stdout",
     "output_type": "stream",
     "text": [
      "Enter the number of units consumed: 12\n",
      "The total electricity bill is: Rs 0\n"
     ]
    }
   ],
   "source": [
    "# Function to calculate the electricity bill\n",
    "def calculate_electricity_bill(units):\n",
    "    bill_amount = 0\n",
    "\n",
    "    if units <= 100:\n",
    "        bill_amount = 0\n",
    "    elif units <= 200:\n",
    "        bill_amount = (units - 100) * 5\n",
    "    else:\n",
    "        bill_amount = (100 * 5) + (units - 200) * 10\n",
    "\n",
    "    return bill_amount\n",
    "\n",
    "# Main program\n",
    "try:\n",
    "    # Accept number of units from user\n",
    "    units = int(input(\"Enter the number of units consumed: \"))\n",
    "    \n",
    "    # Calculate the bill\n",
    "    if units < 0:\n",
    "        print(\"Please enter a valid positive number of units.\")\n",
    "    else:\n",
    "        bill = calculate_electricity_bill(units)\n",
    "        print(f\"The total electricity bill is: Rs {bill}\")\n",
    "except ValueError:\n",
    "    print(\"Invalid input. Please enter a valid number.\")\n",
    "\n"
   ]
  },
  {
   "cell_type": "markdown",
   "id": "9c9ef5d7",
   "metadata": {},
   "source": [
    "# Write a program to accept percentage from the user and display\n",
    "the grade according to the following criteria:\n",
    "\n",
    "Marks Grade\n",
    "> 90 A\n",
    "> 80 and <= 90 B\n",
    ">= 60 and <= 80 C\n",
    "below 60 D"
   ]
  },
  {
   "cell_type": "code",
   "execution_count": 2,
   "id": "68bbae95",
   "metadata": {},
   "outputs": [
    {
     "name": "stdout",
     "output_type": "stream",
     "text": [
      "Enter your percentage: 89\n",
      "Your grade is: B\n"
     ]
    }
   ],
   "source": [
    "# Function to determine the grade based on the percentage\n",
    "def determine_grade(percentage):\n",
    "    if percentage > 90:\n",
    "        grade = 'A'\n",
    "    elif percentage > 80 and percentage <= 90:\n",
    "        grade = 'B'\n",
    "    elif percentage >= 60 and percentage <= 80:\n",
    "        grade = 'C'\n",
    "    else:\n",
    "        grade = 'D'\n",
    "    return grade\n",
    "\n",
    "# Main program\n",
    "try:\n",
    "    # Accept percentage from the user\n",
    "    percentage = float(input(\"Enter your percentage: \"))\n",
    "    \n",
    "    # Validate the input\n",
    "    if percentage < 0 or percentage > 100:\n",
    "        print(\"Please enter a valid percentage between 0 and 100.\")\n",
    "    else:\n",
    "        # Determine and print the grade\n",
    "        grade = determine_grade(percentage)\n",
    "        print(f\"Your grade is: {grade}\")\n",
    "except ValueError:\n",
    "    print(\"Invalid input. Please enter a numeric value for the percentage.\")\n"
   ]
  },
  {
   "cell_type": "markdown",
   "id": "546658bd",
   "metadata": {},
   "source": [
    "# Accept the age of 4 people and display the youngest one?"
   ]
  },
  {
   "cell_type": "code",
   "execution_count": 3,
   "id": "c4f2e225",
   "metadata": {},
   "outputs": [
    {
     "name": "stdout",
     "output_type": "stream",
     "text": [
      "Enter the age of person 1: 25\n",
      "Enter the age of person 2: 40\n",
      "Enter the age of person 3: 55\n",
      "Enter the age of person 4: 37\n",
      "The youngest age is: 25\n"
     ]
    }
   ],
   "source": [
    "# Function to determine the youngest age\n",
    "def find_youngest(ages):\n",
    "    return min(ages)\n",
    "\n",
    "# Main program\n",
    "try:\n",
    "    # Accept ages from the user\n",
    "    ages = []\n",
    "    for i in range(4):\n",
    "        age = int(input(f\"Enter the age of person {i+1}: \"))\n",
    "        if age < 0:\n",
    "            raise ValueError(\"Age cannot be negative.\")\n",
    "        ages.append(age)\n",
    "    \n",
    "    # Find the youngest age\n",
    "    youngest_age = find_youngest(ages)\n",
    "    \n",
    "    # Display the youngest age\n",
    "    print(f\"The youngest age is: {youngest_age}\")\n",
    "\n",
    "except ValueError as ve:\n",
    "    print(\"Invalid input. Please enter a valid positive integer for age.\")\n",
    "    print(\"Error:\", ve)\n"
   ]
  },
  {
   "cell_type": "markdown",
   "id": "5f4e7099",
   "metadata": {},
   "source": [
    "# A company decided to give bonus to employee\n",
    "according to following criteria:\n",
    "\n",
    "Time period of Service Bonus\n",
    "\n",
    "More than 10 years 10%\n",
    "\n",
    ">=6 and <=10 8%\n",
    "\n",
    "Less than 6 years 5%\n",
    "\n",
    "Ask user for their salary and years of service and print the\n",
    "net bonus amount?"
   ]
  },
  {
   "cell_type": "code",
   "execution_count": 4,
   "id": "e38f474c",
   "metadata": {},
   "outputs": [
    {
     "name": "stdout",
     "output_type": "stream",
     "text": [
      "Enter your salary: 600000\n",
      "Enter your years of service: 20\n",
      "The net bonus amount is: Rs 60000.00\n"
     ]
    }
   ],
   "source": [
    "# Function to calculate the bonus based on years of service\n",
    "def calculate_bonus(salary, years_of_service):\n",
    "    if years_of_service > 10:\n",
    "        bonus_percentage = 10\n",
    "    elif years_of_service >= 6:\n",
    "        bonus_percentage = 8\n",
    "    else:\n",
    "        bonus_percentage = 5\n",
    "    bonus_amount = (bonus_percentage / 100) * salary\n",
    "    return bonus_amount\n",
    "\n",
    "# Main program\n",
    "try:\n",
    "    # Accept salary from the user\n",
    "    salary = float(input(\"Enter your salary: \"))\n",
    "    # Accept years of service from the user\n",
    "    years_of_service = int(input(\"Enter your years of service: \"))\n",
    "\n",
    "    # Validate the inputs\n",
    "    if salary < 0 or years_of_service < 0:\n",
    "        print(\"Please enter valid positive numbers for salary and years of service.\")\n",
    "    else:\n",
    "        # Calculate the bonus\n",
    "        bonus = calculate_bonus(salary, years_of_service)\n",
    "        # Print the net bonus amount\n",
    "        print(f\"The net bonus amount is: Rs {bonus:.2f}\")\n",
    "\n",
    "except ValueError:\n",
    "    print(\"Invalid input. Please enter numeric values for salary and years of service.\")\n"
   ]
  },
  {
   "cell_type": "markdown",
   "id": "b0fe3313",
   "metadata": {},
   "source": [
    "# Accept three numbers from the user and\n",
    "display the second largest number?"
   ]
  },
  {
   "cell_type": "code",
   "execution_count": 5,
   "id": "ebde374e",
   "metadata": {},
   "outputs": [
    {
     "name": "stdout",
     "output_type": "stream",
     "text": [
      "Enter the first number: 4\n",
      "Enter the second number: 5\n",
      "Enter the third number: 8\n",
      "The second largest number is: 5.0\n"
     ]
    }
   ],
   "source": [
    "# Function to find the second largest number among three numbers\n",
    "def second_largest(num1, num2, num3):\n",
    "    # Create a list of the three numbers\n",
    "    numbers = [num1, num2, num3]\n",
    "    # Sort the list in ascending order\n",
    "    numbers.sort()\n",
    "    # The second largest number will be the second element in the sorted list\n",
    "    return numbers[1]\n",
    "\n",
    "# Main program\n",
    "try:\n",
    "    # Accept three numbers from the user\n",
    "    num1 = float(input(\"Enter the first number: \"))\n",
    "    num2 = float(input(\"Enter the second number: \"))\n",
    "    num3 = float(input(\"Enter the third number: \"))\n",
    "    \n",
    "    # Find and display the second largest number\n",
    "    second_largest_number = second_largest(num1, num2, num3)\n",
    "    print(f\"The second largest number is: {second_largest_number}\")\n",
    "\n",
    "except ValueError:\n",
    "    print(\"Invalid input. Please enter numeric values.\")\n"
   ]
  },
  {
   "cell_type": "markdown",
   "id": "cfbcf48d",
   "metadata": {},
   "source": [
    "# Accept the marked price from the user and calculate\n",
    "the Net amount as (Marked Price – Discount) to pay\n",
    "according to following criteria:\n",
    "\n",
    "Marked Price Discount\n",
    ">10000 20%\n",
    ">7000 and <=10000 15%\n",
    "<=7000 10%# "
   ]
  },
  {
   "cell_type": "code",
   "execution_count": 6,
   "id": "6b072f9b",
   "metadata": {},
   "outputs": [
    {
     "name": "stdout",
     "output_type": "stream",
     "text": [
      "Enter the marked price: 60\n",
      "The discount is 10%, which amounts to Rs 6.00.\n",
      "The net amount to pay is: Rs 54.00\n"
     ]
    }
   ],
   "source": [
    "# Function to calculate the net amount after discount\n",
    "def calculate_net_amount(marked_price):\n",
    "    if marked_price > 10000:\n",
    "        discount_percentage = 20\n",
    "    elif marked_price > 7000:\n",
    "        discount_percentage = 15\n",
    "    else:\n",
    "        discount_percentage = 10\n",
    "    \n",
    "    discount_amount = (discount_percentage / 100) * marked_price\n",
    "    net_amount = marked_price - discount_amount\n",
    "    return net_amount, discount_percentage, discount_amount\n",
    "\n",
    "# Main program\n",
    "try:\n",
    "    # Accept the marked price from the user\n",
    "    marked_price = float(input(\"Enter the marked price: \"))\n",
    "\n",
    "    # Validate the input\n",
    "    if marked_price < 0:\n",
    "        print(\"Please enter a valid positive marked price.\")\n",
    "    else:\n",
    "        # Calculate the net amount\n",
    "        net_amount, discount_percentage, discount_amount = calculate_net_amount(marked_price)\n",
    "        # Print the results\n",
    "        print(f\"The discount is {discount_percentage}%, which amounts to Rs {discount_amount:.2f}.\")\n",
    "        print(f\"The net amount to pay is: Rs {net_amount:.2f}\")\n",
    "\n",
    "except ValueError:\n",
    "    print(\"Invalid input. Please enter a numeric value for the marked price.\")\n"
   ]
  },
  {
   "cell_type": "markdown",
   "id": "13fb4d67",
   "metadata": {},
   "source": [
    "# Accept the marks of English, Math and Science,\n",
    "Social Studies Subject and display the stream allotted\n",
    "according to following:\n",
    "\n",
    "All Subjects more than 80 marks — Science Stream\n",
    "\n",
    "English >80 and Math, Science above 50 — Commerce Stream\n",
    "\n",
    "English > 80 and social studies > 80 — Humanities# "
   ]
  },
  {
   "cell_type": "code",
   "execution_count": 7,
   "id": "a3b28d9e",
   "metadata": {},
   "outputs": [
    {
     "name": "stdout",
     "output_type": "stream",
     "text": [
      "Enter marks in English: 70\n",
      "Enter marks in Math: 78\n",
      "Enter marks in Science: 88\n",
      "Enter marks in Social Studies: 90\n",
      "The stream allotted is: Undecided\n"
     ]
    }
   ],
   "source": [
    "# Function to determine the stream allotted based on marks\n",
    "def determine_stream(english_marks, math_marks, science_marks, social_studies_marks):\n",
    "    if english_marks > 80 and math_marks > 50 and science_marks > 50:\n",
    "        stream = \"Commerce Stream\"\n",
    "    elif english_marks > 80 and social_studies_marks > 80:\n",
    "        stream = \"Humanities Stream\"\n",
    "    elif english_marks > 80 and math_marks > 80 and science_marks > 80 and social_studies_marks > 80:\n",
    "        stream = \"Science Stream\"\n",
    "    else:\n",
    "        stream = \"Undecided\"\n",
    "    return stream\n",
    "\n",
    "# Main program\n",
    "try:\n",
    "    # Accept marks from the user for English, Math, Science, and Social Studies\n",
    "    english_marks = float(input(\"Enter marks in English: \"))\n",
    "    math_marks = float(input(\"Enter marks in Math: \"))\n",
    "    science_marks = float(input(\"Enter marks in Science: \"))\n",
    "    social_studies_marks = float(input(\"Enter marks in Social Studies: \"))\n",
    "\n",
    "    # Determine the stream allotted based on marks\n",
    "    stream = determine_stream(english_marks, math_marks, science_marks, social_studies_marks)\n",
    "\n",
    "    # Print the stream allotted\n",
    "    print(f\"The stream allotted is: {stream}\")\n",
    "\n",
    "except ValueError:\n",
    "    print(\"Invalid input. Please enter numeric values for marks.\")\n"
   ]
  },
  {
   "cell_type": "markdown",
   "id": "cf9ccea8",
   "metadata": {},
   "source": [
    "# Write a program to display \"Hello\" if a number entered\n",
    "by user is a multiple of five, otherwise print \"Bye\"?"
   ]
  },
  {
   "cell_type": "code",
   "execution_count": 8,
   "id": "65e84f71",
   "metadata": {},
   "outputs": [
    {
     "name": "stdout",
     "output_type": "stream",
     "text": [
      "Enter a number: 66\n",
      "Bye\n"
     ]
    }
   ],
   "source": [
    "try:\n",
    "    # Accept a number from the user\n",
    "    number = int(input(\"Enter a number: \"))\n",
    "    \n",
    "    # Check if the number is a multiple of five\n",
    "    if number % 5 == 0:\n",
    "        print(\"Hello\")\n",
    "    else:\n",
    "        print(\"Bye\")\n",
    "\n",
    "except ValueError:\n",
    "    print(\"Invalid input. Please enter a valid integer.\")\n"
   ]
  },
  {
   "cell_type": "markdown",
   "id": "79b8c6bf",
   "metadata": {},
   "source": [
    "# Write a program to check whether the last digit of a number\n",
    "(entered by user) is divisible by 3 or not?"
   ]
  },
  {
   "cell_type": "code",
   "execution_count": 9,
   "id": "2c69c6a5",
   "metadata": {},
   "outputs": [
    {
     "name": "stdout",
     "output_type": "stream",
     "text": [
      "Enter a number: 67\n",
      "The last digit (7) is not divisible by 3.\n"
     ]
    }
   ],
   "source": [
    "try:\n",
    "    # Accept a number from the user\n",
    "    number = int(input(\"Enter a number: \"))\n",
    "    \n",
    "    # Extract the last digit of the number\n",
    "    last_digit = abs(number) % 10\n",
    "    \n",
    "    # Check if the last digit is divisible by 3\n",
    "    if last_digit % 3 == 0:\n",
    "        print(f\"The last digit ({last_digit}) is divisible by 3.\")\n",
    "    else:\n",
    "        print(f\"The last digit ({last_digit}) is not divisible by 3.\")\n",
    "\n",
    "except ValueError:\n",
    "    print(\"Invalid input. Please enter a valid integer.\")\n"
   ]
  },
  {
   "cell_type": "markdown",
   "id": "531c9e71",
   "metadata": {},
   "source": [
    "# Write a program to check whether a number entered\n",
    "is three-digit number or not? "
   ]
  },
  {
   "cell_type": "code",
   "execution_count": 10,
   "id": "2c04b0af",
   "metadata": {},
   "outputs": [
    {
     "name": "stdout",
     "output_type": "stream",
     "text": [
      "Enter a number: 7\n",
      "The number entered is not a three-digit number.\n"
     ]
    }
   ],
   "source": [
    "try:\n",
    "    # Accept a number from the user\n",
    "    number = int(input(\"Enter a number: \"))\n",
    "    \n",
    "    # Check if the number has three digits\n",
    "    if 100 <= abs(number) < 1000:\n",
    "        print(\"The number entered is a three-digit number.\")\n",
    "    else:\n",
    "        print(\"The number entered is not a three-digit number.\")\n",
    "\n",
    "except ValueError:\n",
    "    print(\"Invalid input. Please enter a valid integer.\")\n"
   ]
  }
 ],
 "metadata": {
  "kernelspec": {
   "display_name": "Python 3 (ipykernel)",
   "language": "python",
   "name": "python3"
  },
  "language_info": {
   "codemirror_mode": {
    "name": "ipython",
    "version": 3
   },
   "file_extension": ".py",
   "mimetype": "text/x-python",
   "name": "python",
   "nbconvert_exporter": "python",
   "pygments_lexer": "ipython3",
   "version": "3.11.5"
  }
 },
 "nbformat": 4,
 "nbformat_minor": 5
}
