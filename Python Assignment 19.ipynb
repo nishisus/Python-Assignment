{
 "cells": [
  {
   "cell_type": "markdown",
   "id": "01bbdb5f",
   "metadata": {},
   "source": [
    "# Please write a program using generator to print the numbers which can be divisible by 5 and\n",
    "7 between 0 and n in comma separated form while n is input by console.\n",
    "Example:\n",
    "If the following n is given as input to the program:\n",
    "100\n",
    "Then, the output of the program should be:\n",
    "0,35,70"
   ]
  },
  {
   "cell_type": "code",
   "execution_count": 1,
   "id": "8691769c",
   "metadata": {},
   "outputs": [
    {
     "name": "stdout",
     "output_type": "stream",
     "text": [
      "Enter a number (n): 5\n",
      "0\n"
     ]
    }
   ],
   "source": [
    "def divisible_by_5_and_7_generator(n):\n",
    "    for number in range(n + 1):\n",
    "        if number % 5 == 0 and number % 7 == 0:\n",
    "            yield number\n",
    "\n",
    "# Example usage:\n",
    "try:\n",
    "    n = int(input(\"Enter a number (n): \"))\n",
    "    result = list(divisible_by_5_and_7_generator(n))\n",
    "    print(\",\".join(map(str, result)))\n",
    "except ValueError:\n",
    "    print(\"Please enter a valid integer.\")\n"
   ]
  },
  {
   "cell_type": "markdown",
   "id": "2eca45f3",
   "metadata": {},
   "source": [
    "# Please write a program using generator to print the even numbers between 0 and n in comma\n",
    "separated form while n is input by console.\n",
    "Example:\n",
    "If the following n is given as input to the program:\n",
    "10\n",
    "Then, the output of the program should be:\n",
    "0,2,4,6,8,10"
   ]
  },
  {
   "cell_type": "code",
   "execution_count": 2,
   "id": "8dbb0be1",
   "metadata": {},
   "outputs": [
    {
     "name": "stdout",
     "output_type": "stream",
     "text": [
      "Enter a number (n): 8\n",
      "0,2,4,6,8\n"
     ]
    }
   ],
   "source": [
    "def even_numbers_generator(n):\n",
    "    for number in range(n + 1):\n",
    "        if number % 2 == 0:\n",
    "            yield number\n",
    "\n",
    "# Example usage:\n",
    "try:\n",
    "    n = int(input(\"Enter a number (n): \"))\n",
    "    result = list(even_numbers_generator(n))\n",
    "    print(\",\".join(map(str, result)))\n",
    "except ValueError:\n",
    "    print(\"Please enter a valid integer.\")\n"
   ]
  },
  {
   "cell_type": "markdown",
   "id": "8faafd9e",
   "metadata": {},
   "source": [
    "# The Fibonacci Sequence is computed based on the following formula:\n",
    "f(n)=0 if n=0\n",
    "f(n)=1 if n=1\n",
    "f(n)=f(n-1)+f(n-2) if n&gt;1\n",
    "Please write a program using list comprehension to print the Fibonacci Sequence in comma\n",
    "separated form with a given n input by console.\n",
    "Example:\n",
    "If the following n is given as input to the program:\n",
    "7\n",
    "\n",
    "Then, the output of the program should be:\n",
    "0,1,1,2,3,5,8,13"
   ]
  },
  {
   "cell_type": "code",
   "execution_count": 5,
   "id": "66b18949",
   "metadata": {},
   "outputs": [
    {
     "name": "stdout",
     "output_type": "stream",
     "text": [
      "Enter a number (n): 1,2\n",
      "Please enter a valid integer.\n"
     ]
    }
   ],
   "source": [
    "def fibonacci_sequence(n):\n",
    "    # Handle base cases\n",
    "    fib_sequence = [0] if n >= 1 else []\n",
    "    \n",
    "    # Generate Fibonacci sequence using list comprehension\n",
    "    fib_sequence.extend([1] if n >= 2 else [])\n",
    "    fib_sequence.extend([fib_sequence[i-1] + fib_sequence[i-2] for i in range(2, n+1)])\n",
    "    \n",
    "    return fib_sequence\n",
    "\n",
    "# Example usage:\n",
    "try:\n",
    "    n = int(input(\"Enter a number (n): \"))\n",
    "    result = fibonacci_sequence(n)\n",
    "    print(\",\".join(map(str, result)))\n",
    "except ValueError:\n",
    "    print(\"Please enter a valid integer.\")\n",
    "    \n"
   ]
  },
  {
   "cell_type": "markdown",
   "id": "e4ae9f99",
   "metadata": {},
   "source": [
    "# Assuming that we have some email addresses in the &quot;username@companyname.com&quot; format,\n",
    "please write program to print the user name of a given email address. Both user names and\n",
    "company names are composed of letters only.\n",
    "Example:\n",
    "If the following email address is given as input to the program:\n",
    "john@google.com\n",
    "Then, the output of the program should be:\n",
    "john"
   ]
  },
  {
   "cell_type": "code",
   "execution_count": 7,
   "id": "ab7207d8",
   "metadata": {},
   "outputs": [
    {
     "name": "stdout",
     "output_type": "stream",
     "text": [
      "Enter an email address: ducat@gmail.com\n",
      "The username is: ducat\n"
     ]
    }
   ],
   "source": [
    "def extract_username(email):\n",
    "    # Split the email address by '@' to separate username and domain\n",
    "    username = email.split('@')[0]\n",
    "    return username\n",
    "\n",
    "# Example usage:\n",
    "email_address = input(\"Enter an email address: \")\n",
    "\n",
    "try:\n",
    "    username = extract_username(email_address)\n",
    "    print(f\"The username is: {username}\")\n",
    "except IndexError:\n",
    "    print(\"Invalid email address format.\")\n"
   ]
  },
  {
   "cell_type": "markdown",
   "id": "09988636",
   "metadata": {},
   "source": [
    "# Define a class named Shape and its subclass Square. The Square class has an init function\n",
    "which takes a length as argument. Both classes have a area function which can print the area\n",
    "of the shape where Shape&#39;s area is 0 by default."
   ]
  },
  {
   "cell_type": "code",
   "execution_count": 8,
   "id": "46af831d",
   "metadata": {},
   "outputs": [
    {
     "name": "stdout",
     "output_type": "stream",
     "text": [
      "Area of the square: 25\n"
     ]
    }
   ],
   "source": [
    "class Shape:\n",
    "    def __init__(self):\n",
    "        pass\n",
    "    \n",
    "    def area(self):\n",
    "        return 0  # Default area for Shape\n",
    "\n",
    "class Square(Shape):\n",
    "    def __init__(self, length):\n",
    "        super().__init__()\n",
    "        self.length = length\n",
    "    \n",
    "    def area(self):\n",
    "        return self.length * self.length\n",
    "\n",
    "# Example usage:\n",
    "square = Square(5)\n",
    "print(\"Area of the square:\", square.area())  # Output: 25\n"
   ]
  }
 ],
 "metadata": {
  "kernelspec": {
   "display_name": "Python 3 (ipykernel)",
   "language": "python",
   "name": "python3"
  },
  "language_info": {
   "codemirror_mode": {
    "name": "ipython",
    "version": 3
   },
   "file_extension": ".py",
   "mimetype": "text/x-python",
   "name": "python",
   "nbconvert_exporter": "python",
   "pygments_lexer": "ipython3",
   "version": "3.11.5"
  }
 },
 "nbformat": 4,
 "nbformat_minor": 5
}
