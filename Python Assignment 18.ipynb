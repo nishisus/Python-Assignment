{
 "cells": [
  {
   "cell_type": "markdown",
   "id": "c764f0d9",
   "metadata": {},
   "source": [
    "# Define a class with a generator which can iterate the numbers, which are divisible by 7, between a given range 0 and n."
   ]
  },
  {
   "cell_type": "code",
   "execution_count": 3,
   "id": "878d57bd",
   "metadata": {},
   "outputs": [
    {
     "name": "stdout",
     "output_type": "stream",
     "text": [
      "Enter the range limit (n): 4\n",
      "0\n"
     ]
    }
   ],
   "source": [
    "class DivisibleBySeven:\n",
    "    def __init__(self, n):\n",
    "        self.n = n\n",
    "    \n",
    "    def generate(self):\n",
    "        for number in range(0, self.n + 1):\n",
    "            if number % 7 == 0:\n",
    "                yield number\n",
    "\n",
    "# Example usage:\n",
    "n = int(input(\"Enter the range limit (n): \"))\n",
    "\n",
    "# Create an instance of DivisibleBySeven\n",
    "divisible_by_seven = DivisibleBySeven(n)\n",
    "\n",
    "# Iterate through the generator and print the numbers\n",
    "for num in divisible_by_seven.generate():\n",
    "    print(num)\n",
    "\n",
    "    "
   ]
  },
  {
   "cell_type": "markdown",
   "id": "2be0a301",
   "metadata": {},
   "source": [
    "# Write a program to compute the frequency of the words from the input. The output\n",
    "should output after sorting the key alphanumerically.\n",
    "Suppose the following input is supplied to the program:\n",
    "New to Python or choosing between Python 2 and Python 3? Read Python 2 or\n",
    "Python 3.\n",
    "Then, the output should be:\n",
    "2:2\n",
    "3.:1\n",
    "3?:1\n",
    "New:1\n",
    "Python:5\n",
    "Read:1\n",
    "and:1\n",
    "between:1\n",
    "choosing:1\n",
    "or:2\n",
    "to:1"
   ]
  },
  {
   "cell_type": "code",
   "execution_count": 4,
   "id": "a18b0990",
   "metadata": {},
   "outputs": [
    {
     "name": "stdout",
     "output_type": "stream",
     "text": [
      "Enter a sentence: ducat is good\n",
      "ducat:1\n",
      "good:1\n",
      "is:1\n"
     ]
    }
   ],
   "source": [
    "def compute_word_frequency(input_text):\n",
    "    # Split the input text into words\n",
    "    words = input_text.split()\n",
    "    \n",
    "    # Initialize a dictionary to store word frequencies\n",
    "    word_freq = {}\n",
    "    \n",
    "    # Count the frequency of each word\n",
    "    for word in words:\n",
    "        word_freq[word] = word_freq.get(word, 0) + 1\n",
    "    \n",
    "    # Sort the dictionary by keys (words) alphanumerically\n",
    "    sorted_word_freq = dict(sorted(word_freq.items()))\n",
    "    \n",
    "    return sorted_word_freq\n",
    "\n",
    "# Example usage:\n",
    "input_text = input(\"Enter a sentence: \")\n",
    "\n",
    "# Compute the word frequencies\n",
    "word_frequencies = compute_word_frequency(input_text)\n",
    "\n",
    "# Print the sorted word frequencies\n",
    "for word, freq in word_frequencies.items():\n",
    "    print(f\"{word}:{freq}\")\n"
   ]
  },
  {
   "cell_type": "markdown",
   "id": "9e74a762",
   "metadata": {},
   "source": [
    "# Define a class Person and its two child classes: Male and Female. All classes have a\n",
    "method &quot;getGender&quot; which can print &quot;Male&quot; for Male class and &quot;Female&quot; for Female\n",
    "class. "
   ]
  },
  {
   "cell_type": "code",
   "execution_count": 5,
   "id": "75a50a68",
   "metadata": {},
   "outputs": [
    {
     "name": "stdout",
     "output_type": "stream",
     "text": [
      "Male\n",
      "Female\n"
     ]
    }
   ],
   "source": [
    "class Person:\n",
    "    def getGender(self):\n",
    "        pass  # This method will be overridden in child classes\n",
    "\n",
    "class Male(Person):\n",
    "    def getGender(self):\n",
    "        print(\"Male\")\n",
    "\n",
    "class Female(Person):\n",
    "    def getGender(self):\n",
    "        print(\"Female\")\n",
    "\n",
    "# Example usage:\n",
    "male_person = Male()\n",
    "female_person = Female()\n",
    "\n",
    "male_person.getGender()   # Output: Male\n",
    "female_person.getGender() # Output: Female\n"
   ]
  },
  {
   "cell_type": "markdown",
   "id": "7f0fbfb2",
   "metadata": {},
   "source": [
    "# Please write a program to generate all sentences where subject is in [&quot;I&quot;, &quot;You&quot;] and\n",
    "verb is in [&quot;Play&quot;, &quot;Love&quot;] and the object is in [&quot;Hockey&quot;,&quot;Football&quot;]."
   ]
  },
  {
   "cell_type": "code",
   "execution_count": 6,
   "id": "6d51aacb",
   "metadata": {},
   "outputs": [
    {
     "name": "stdout",
     "output_type": "stream",
     "text": [
      "I Play Hockey\n",
      "I Play Football\n",
      "I Love Hockey\n",
      "I Love Football\n",
      "You Play Hockey\n",
      "You Play Football\n",
      "You Love Hockey\n",
      "You Love Football\n"
     ]
    }
   ],
   "source": [
    "subjects = [\"I\", \"You\"]\n",
    "verbs = [\"Play\", \"Love\"]\n",
    "objects = [\"Hockey\", \"Football\"]\n",
    "\n",
    "# Generate all combinations of subject, verb, and object\n",
    "sentences = []\n",
    "\n",
    "for subject in subjects:\n",
    "    for verb in verbs:\n",
    "        for obj in objects:\n",
    "            sentences.append(f\"{subject} {verb} {obj}\")\n",
    "\n",
    "# Print all the generated sentences\n",
    "for sentence in sentences:\n",
    "    print(sentence)\n"
   ]
  },
  {
   "cell_type": "markdown",
   "id": "ed07f061",
   "metadata": {},
   "source": [
    "# Please write a program to compress and decompress the string &quot;hello world!hello world!hello world!hello world!&quot;."
   ]
  },
  {
   "cell_type": "code",
   "execution_count": 7,
   "id": "e64b62d7",
   "metadata": {},
   "outputs": [
    {
     "name": "stdout",
     "output_type": "stream",
     "text": [
      "Original string: hello world!hello world!hello world!hello world!\n",
      "Compressed data: b'x\\x9c\\xcbH\\xcd\\xc9\\xc9W(\\xcf/\\xcaIQ\\xcc \\x82\\r\\x00\\xbd[\\x11\\xf5'\n",
      "Decompressed string: hello world!hello world!hello world!hello world!\n"
     ]
    }
   ],
   "source": [
    "import zlib\n",
    "\n",
    "# The original string\n",
    "original_string = \"hello world!hello world!hello world!hello world!\"\n",
    "\n",
    "# Compress the string\n",
    "compressed_data = zlib.compress(original_string.encode('utf-8'))\n",
    "\n",
    "# Decompress the string\n",
    "decompressed_data = zlib.decompress(compressed_data).decode('utf-8')\n",
    "\n",
    "# Print the results\n",
    "print(\"Original string:\", original_string)\n",
    "print(\"Compressed data:\", compressed_data)\n",
    "print(\"Decompressed string:\", decompressed_data)\n"
   ]
  },
  {
   "cell_type": "markdown",
   "id": "4fd4dd91",
   "metadata": {},
   "source": [
    "# Please write a binary search function which searches an item in a sorted list. The function should return the index of element to be searched in the list."
   ]
  },
  {
   "cell_type": "code",
   "execution_count": 8,
   "id": "73c26ace",
   "metadata": {},
   "outputs": [
    {
     "name": "stdout",
     "output_type": "stream",
     "text": [
      "Item 11 found at index 5.\n"
     ]
    }
   ],
   "source": [
    "def binary_search(sorted_list, item):\n",
    "    low = 0\n",
    "    high = len(sorted_list) - 1\n",
    "\n",
    "    while low <= high:\n",
    "        mid = (low + high) // 2\n",
    "        guess = sorted_list[mid]\n",
    "        \n",
    "        if guess == item:\n",
    "            return mid  # Found the item, return its index\n",
    "        elif guess < item:\n",
    "            low = mid + 1  # Item is in the upper half\n",
    "        else:\n",
    "            high = mid - 1  # Item is in the lower half\n",
    "    \n",
    "    return -1  # Item not found\n",
    "\n",
    "# Example usage:\n",
    "sorted_list = [1, 3, 5, 7, 9, 11, 13, 15, 17, 19]\n",
    "item = 11\n",
    "index = binary_search(sorted_list, item)\n",
    "\n",
    "if index != -1:\n",
    "    print(f\"Item {item} found at index {index}.\")\n",
    "else:\n",
    "    print(f\"Item {item} not found in the list.\")\n"
   ]
  }
 ],
 "metadata": {
  "kernelspec": {
   "display_name": "Python 3 (ipykernel)",
   "language": "python",
   "name": "python3"
  },
  "language_info": {
   "codemirror_mode": {
    "name": "ipython",
    "version": 3
   },
   "file_extension": ".py",
   "mimetype": "text/x-python",
   "name": "python",
   "nbconvert_exporter": "python",
   "pygments_lexer": "ipython3",
   "version": "3.11.5"
  }
 },
 "nbformat": 4,
 "nbformat_minor": 5
}
