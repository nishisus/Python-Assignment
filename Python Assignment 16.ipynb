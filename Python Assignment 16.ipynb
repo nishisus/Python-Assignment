{
 "cells": [
  {
   "cell_type": "markdown",
   "id": "545d070a",
   "metadata": {},
   "source": [
    "# 1. Write a Python program to Extract Unique values dictionary values?"
   ]
  },
  {
   "cell_type": "code",
   "execution_count": 1,
   "id": "870289fe",
   "metadata": {},
   "outputs": [
    {
     "name": "stdout",
     "output_type": "stream",
     "text": [
      "Unique values in the dictionary:\n",
      "{1, 2, 3, 4, 5, 6}\n"
     ]
    }
   ],
   "source": [
    "def extract_unique_dictionary_values(dictionary):\n",
    "    # Initialize an empty set to store unique values\n",
    "    unique_values = set()\n",
    "    \n",
    "    # Iterate through each value in the dictionary\n",
    "    for values in dictionary.values():\n",
    "        # Check if the value is iterable (like a list or tuple)\n",
    "        if isinstance(values, (list, tuple)):\n",
    "            unique_values.update(values)\n",
    "        else:\n",
    "            unique_values.add(values)\n",
    "    \n",
    "    return unique_values\n",
    "\n",
    "# Example usage:\n",
    "my_dict = {\n",
    "    'a': 1,\n",
    "    'b': 2,\n",
    "    'c': [1, 2, 3],\n",
    "    'd': (4, 5, 6),\n",
    "    'e': 2,\n",
    "    'f': [1, 2, 3]\n",
    "}\n",
    "\n",
    "unique_values = extract_unique_dictionary_values(my_dict)\n",
    "print(\"Unique values in the dictionary:\")\n",
    "print(unique_values)\n"
   ]
  },
  {
   "cell_type": "markdown",
   "id": "b87c1b79",
   "metadata": {},
   "source": [
    "# 2. Write a Python program to find the sum of all items in a dictionary?"
   ]
  },
  {
   "cell_type": "code",
   "execution_count": 2,
   "id": "e2cf0641",
   "metadata": {},
   "outputs": [
    {
     "name": "stdout",
     "output_type": "stream",
     "text": [
      "Sum of all numeric values in the dictionary: 65.5\n"
     ]
    }
   ],
   "source": [
    "def sum_of_dictionary_values(dictionary):\n",
    "    total_sum = 0\n",
    "    \n",
    "    # Iterate through each value in the dictionary and add to total_sum\n",
    "    for value in dictionary.values():\n",
    "        # Check if the value is numeric (int or float)\n",
    "        if isinstance(value, (int, float)):\n",
    "            total_sum += value\n",
    "    \n",
    "    return total_sum\n",
    "\n",
    "# Example usage:\n",
    "my_dict = {\n",
    "    'a': 10,\n",
    "    'b': 20,\n",
    "    'c': 30,\n",
    "    'd': 5.5,\n",
    "    'e': 'hello'  # This value will be ignored since it's not numeric\n",
    "}\n",
    "\n",
    "total_sum = sum_of_dictionary_values(my_dict)\n",
    "print(\"Sum of all numeric values in the dictionary:\", total_sum)\n"
   ]
  },
  {
   "cell_type": "markdown",
   "id": "1998c923",
   "metadata": {},
   "source": [
    "# 3. Write a Python program to Merging two Dictionaries?"
   ]
  },
  {
   "cell_type": "code",
   "execution_count": 3,
   "id": "39f98664",
   "metadata": {},
   "outputs": [
    {
     "name": "stdout",
     "output_type": "stream",
     "text": [
      "Merged dictionary using update():\n",
      "{'a': 10, 'b': 20, 'c': 30, 'd': 40}\n"
     ]
    }
   ],
   "source": [
    "def merge_dictionaries(dict1, dict2):\n",
    "    # Create a new dictionary and update it with dict1 and dict2\n",
    "    merged_dict = dict1.copy()\n",
    "    merged_dict.update(dict2)\n",
    "    return merged_dict\n",
    "\n",
    "# Example usage:\n",
    "dict1 = {'a': 10, 'b': 20}\n",
    "dict2 = {'c': 30, 'd': 40}\n",
    "\n",
    "merged_dict = merge_dictionaries(dict1, dict2)\n",
    "print(\"Merged dictionary using update():\")\n",
    "print(merged_dict)\n"
   ]
  },
  {
   "cell_type": "markdown",
   "id": "d2f6366d",
   "metadata": {},
   "source": [
    "# 4. Write a Python program to convert key-values list to flat dictionary?"
   ]
  },
  {
   "cell_type": "code",
   "execution_count": 4,
   "id": "606a6f37",
   "metadata": {},
   "outputs": [
    {
     "name": "stdout",
     "output_type": "stream",
     "text": [
      "Flat dictionary:\n",
      "{'a': 1, 'b': 2, 'c': 3}\n"
     ]
    }
   ],
   "source": [
    "def convert_to_flat_dictionary(key_value_list):\n",
    "    # Initialize an empty dictionary to store the flat dictionary\n",
    "    flat_dict = {}\n",
    "    \n",
    "    # Iterate through each key-value pair in the list\n",
    "    for key, value in key_value_list:\n",
    "        # Update the flat dictionary with the key-value pair\n",
    "        flat_dict[key] = value\n",
    "    \n",
    "    return flat_dict\n",
    "\n",
    "# Example usage:\n",
    "key_value_list = [('a', 1), ('b', 2), ('c', 3)]\n",
    "\n",
    "flat_dictionary = convert_to_flat_dictionary(key_value_list)\n",
    "print(\"Flat dictionary:\")\n",
    "print(flat_dictionary)\n"
   ]
  },
  {
   "cell_type": "markdown",
   "id": "f9b58d3e",
   "metadata": {},
   "source": [
    "# 5. Write a Python program to insertion at the beginning in OrderedDict?"
   ]
  },
  {
   "cell_type": "code",
   "execution_count": 7,
   "id": "125dede7",
   "metadata": {},
   "outputs": [
    {
     "name": "stdout",
     "output_type": "stream",
     "text": [
      "Original OrderedDict:\n",
      "OrderedDict([('a', 1), ('b', 2), ('c', 3)])\n",
      "OrderedDict after insertion at the beginning:\n",
      "OrderedDict([('x', 10), ('a', 1), ('b', 2), ('c', 3)])\n"
     ]
    }
   ],
   "source": [
    "from collections import OrderedDict\n",
    "\n",
    "def insert_at_beginning(od, key, value):\n",
    "    # Create a new OrderedDict with the new key-value pair at the beginning\n",
    "    new_od = OrderedDict([(key, value)])\n",
    "    \n",
    "    # Update the new OrderedDict with the existing items from od\n",
    "    for k, v in od.items():\n",
    "        new_od[k] = v\n",
    "    \n",
    "    return new_od\n",
    "\n",
    "# Example usage:\n",
    "od = OrderedDict([('a', 1), ('b', 2), ('c', 3)])\n",
    "\n",
    "new_od = insert_at_beginning(od, 'x', 10)\n",
    "print(\"Original OrderedDict:\")\n",
    "print(od)\n",
    "print(\"OrderedDict after insertion at the beginning:\")\n",
    "print(new_od)\n",
    "\n"
   ]
  },
  {
   "cell_type": "markdown",
   "id": "1a3bca59",
   "metadata": {},
   "source": [
    "# 6. Write a Python program to check order of character in string using OrderedDict()?"
   ]
  },
  {
   "cell_type": "code",
   "execution_count": 8,
   "id": "8cf442a1",
   "metadata": {},
   "outputs": [
    {
     "name": "stdout",
     "output_type": "stream",
     "text": [
      "Pattern 'llo' found in order in 'hello world': True\n",
      "Pattern 'owd' found in order in 'hello world': True\n"
     ]
    }
   ],
   "source": [
    "from collections import OrderedDict\n",
    "\n",
    "def check_order_of_characters(string, pattern):\n",
    "    # Create an OrderedDict to store the positions of characters in pattern\n",
    "    char_positions = OrderedDict.fromkeys(pattern)\n",
    "    \n",
    "    # Initialize a variable to track the current position in pattern\n",
    "    current_pos = 0\n",
    "    \n",
    "    # Iterate through each character in the string\n",
    "    for char in string:\n",
    "        if char in char_positions:\n",
    "            # If the current character matches the next character in pattern\n",
    "            if char == pattern[current_pos]:\n",
    "                # Move to the next position in pattern\n",
    "                current_pos += 1\n",
    "            \n",
    "            # If all characters in pattern have been matched\n",
    "            if current_pos == len(pattern):\n",
    "                return True\n",
    "    \n",
    "    # If not all characters in pattern were found in order\n",
    "    return False\n",
    "\n",
    "# Example usage:\n",
    "string = \"hello world\"\n",
    "pattern1 = \"llo\"  # Pattern to check for order in string\n",
    "pattern2 = \"owd\"  # Another pattern to check for order in string\n",
    "\n",
    "print(f\"Pattern '{pattern1}' found in order in '{string}':\", check_order_of_characters(string, pattern1))\n",
    "print(f\"Pattern '{pattern2}' found in order in '{string}':\", check_order_of_characters(string, pattern2))\n"
   ]
  },
  {
   "cell_type": "markdown",
   "id": "64bcfb3d",
   "metadata": {},
   "source": [
    "# 7. Write a Python program to sort Python Dictionaries by Key or Value?"
   ]
  },
  {
   "cell_type": "code",
   "execution_count": 9,
   "id": "5453aaea",
   "metadata": {},
   "outputs": [
    {
     "name": "stdout",
     "output_type": "stream",
     "text": [
      "Dictionary sorted by keys:\n",
      "{'a': 10, 'b': 2, 'c': 5}\n"
     ]
    }
   ],
   "source": [
    "def sort_dict_by_keys(dictionary):\n",
    "    sorted_dict = {key: dictionary[key] for key in sorted(dictionary)}\n",
    "    return sorted_dict\n",
    "\n",
    "# Example usage:\n",
    "my_dict = {'c': 5, 'a': 10, 'b': 2}\n",
    "\n",
    "sorted_dict_by_keys = sort_dict_by_keys(my_dict)\n",
    "print(\"Dictionary sorted by keys:\")\n",
    "print(sorted_dict_by_keys)\n"
   ]
  }
 ],
 "metadata": {
  "kernelspec": {
   "display_name": "Python 3 (ipykernel)",
   "language": "python",
   "name": "python3"
  },
  "language_info": {
   "codemirror_mode": {
    "name": "ipython",
    "version": 3
   },
   "file_extension": ".py",
   "mimetype": "text/x-python",
   "name": "python",
   "nbconvert_exporter": "python",
   "pygments_lexer": "ipython3",
   "version": "3.11.5"
  }
 },
 "nbformat": 4,
 "nbformat_minor": 5
}
