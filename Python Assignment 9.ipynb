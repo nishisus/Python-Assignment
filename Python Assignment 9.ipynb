{
 "cells": [
  {
   "cell_type": "markdown",
   "id": "55e0bfa7",
   "metadata": {},
   "source": [
    "# 1. Write a Python Program to Find LCM?"
   ]
  },
  {
   "cell_type": "code",
   "execution_count": 1,
   "id": "9cb4386f",
   "metadata": {},
   "outputs": [
    {
     "name": "stdout",
     "output_type": "stream",
     "text": [
      "Enter first number: 6\n",
      "Enter second number: 9\n",
      "The LCM of 6 and 9 is: 18\n"
     ]
    }
   ],
   "source": [
    "def find_lcm(x, y):\n",
    "    # Find the maximum of the two numbers\n",
    "    max_num = max(x, y)\n",
    "    \n",
    "    # Start from the maximum and keep checking multiples until a common multiple is found\n",
    "    lcm = max_num\n",
    "    while True:\n",
    "        if lcm % x == 0 and lcm % y == 0:\n",
    "            return lcm\n",
    "        lcm += max_num\n",
    "\n",
    "try:\n",
    "    # Accept the two numbers from the user\n",
    "    num1 = int(input(\"Enter first number: \"))\n",
    "    num2 = int(input(\"Enter second number: \"))\n",
    "    \n",
    "    # Calculate and print the LCM\n",
    "    lcm = find_lcm(num1, num2)\n",
    "    print(f\"The LCM of {num1} and {num2} is: {lcm}\")\n",
    "except ValueError:\n",
    "    print(\"Invalid input. Please enter valid integers.\")\n"
   ]
  },
  {
   "cell_type": "markdown",
   "id": "5de5a41d",
   "metadata": {},
   "source": [
    "# 2. Write a Python Program to Find HCF?"
   ]
  },
  {
   "cell_type": "code",
   "execution_count": 2,
   "id": "2442ace5",
   "metadata": {},
   "outputs": [
    {
     "name": "stdout",
     "output_type": "stream",
     "text": [
      "Enter first number: 8\n",
      "Enter second number: 2\n",
      "The HCF of 8 and 2 is: 2\n"
     ]
    }
   ],
   "source": [
    "def find_hcf(x, y):\n",
    "    # Find the smaller of the two numbers\n",
    "    smaller = min(x, y)\n",
    "    \n",
    "    # Start from the smaller number and iterate backwards to find the HCF\n",
    "    hcf = 1\n",
    "    for i in range(1, smaller + 1):\n",
    "        if x % i == 0 and y % i == 0:\n",
    "            hcf = i\n",
    "    return hcf\n",
    "\n",
    "try:\n",
    "    # Accept the two numbers from the user\n",
    "    num1 = int(input(\"Enter first number: \"))\n",
    "    num2 = int(input(\"Enter second number: \"))\n",
    "    \n",
    "    # Calculate and print the HCF\n",
    "    hcf = find_hcf(num1, num2)\n",
    "    print(f\"The HCF of {num1} and {num2} is: {hcf}\")\n",
    "except ValueError:\n",
    "    print(\"Invalid input. Please enter valid integers.\")\n"
   ]
  },
  {
   "cell_type": "markdown",
   "id": "82cbe6d4",
   "metadata": {},
   "source": [
    "# 3. Write a Python Program to Convert Decimal to Binary, Octal and Hexadecimal?"
   ]
  },
  {
   "cell_type": "code",
   "execution_count": 4,
   "id": "1a8e7f57",
   "metadata": {},
   "outputs": [
    {
     "name": "stdout",
     "output_type": "stream",
     "text": [
      "Enter a decimal number: 6\n",
      "Binary representation: 110\n",
      "Octal representation: 6\n",
      "Hexadecimal representation: 6\n"
     ]
    }
   ],
   "source": [
    "def decimal_to_binary(decimal):\n",
    "    return bin(decimal)[2:]\n",
    "\n",
    "def decimal_to_octal(decimal):\n",
    "    return oct(decimal)[2:]\n",
    "\n",
    "def decimal_to_hexadecimal(decimal):\n",
    "    return hex(decimal)[2:].upper()\n",
    "\n",
    "try:\n",
    "    # Accept a decimal number from the user\n",
    "    decimal = int(input(\"Enter a decimal number: \"))\n",
    "    \n",
    "    # Convert the decimal number to binary, octal, and hexadecimal\n",
    "    binary = decimal_to_binary(decimal)\n",
    "    octal = decimal_to_octal(decimal)\n",
    "    hexadecimal = decimal_to_hexadecimal(decimal)\n",
    "    \n",
    "    # Print the converted values\n",
    "    print(f\"Binary representation: {binary}\")\n",
    "    print(f\"Octal representation: {octal}\")\n",
    "    print(f\"Hexadecimal representation: {hexadecimal}\")\n",
    "except ValueError:\n",
    "    print(\"Invalid input. Please enter a valid decimal integer.\")\n"
   ]
  },
  {
   "cell_type": "markdown",
   "id": "529a1bca",
   "metadata": {},
   "source": [
    "# 4. Write a Python Program To Find ASCII value of a character?"
   ]
  },
  {
   "cell_type": "code",
   "execution_count": 5,
   "id": "a5946b5d",
   "metadata": {},
   "outputs": [
    {
     "name": "stdout",
     "output_type": "stream",
     "text": [
      "Enter a character: d\n",
      "The ASCII value of 'd' is: 100\n"
     ]
    }
   ],
   "source": [
    "try:\n",
    "    # Accept a character from the user\n",
    "    char = input(\"Enter a character: \")\n",
    "    \n",
    "    # Get the ASCII value of the character\n",
    "    ascii_value = ord(char)\n",
    "    \n",
    "    # Print the ASCII value\n",
    "    print(f\"The ASCII value of '{char}' is: {ascii_value}\")\n",
    "except TypeError:\n",
    "    print(\"Invalid input. Please enter a single character.\")\n"
   ]
  },
  {
   "cell_type": "markdown",
   "id": "573d3eea",
   "metadata": {},
   "source": [
    "# 5. Write a Python Program to Make a Simple Calculator with 4 basic mathematical operations?"
   ]
  },
  {
   "cell_type": "code",
   "execution_count": 6,
   "id": "ab5d30ae",
   "metadata": {},
   "outputs": [
    {
     "name": "stdout",
     "output_type": "stream",
     "text": [
      "Select operation:\n",
      "1. Addition\n",
      "2. Subtraction\n",
      "3. Multiplication\n",
      "4. Division\n",
      "Enter choice (1/2/3/4): 3\n",
      "Enter first number: 4\n",
      "Enter second number: 9\n",
      "Result: 36.0\n"
     ]
    }
   ],
   "source": [
    "def add(x, y):\n",
    "    return x + y\n",
    "\n",
    "def subtract(x, y):\n",
    "    return x - y\n",
    "\n",
    "def multiply(x, y):\n",
    "    return x * y\n",
    "\n",
    "def divide(x, y):\n",
    "    if y == 0:\n",
    "        return \"Error! Division by zero.\"\n",
    "    else:\n",
    "        return x / y\n",
    "\n",
    "print(\"Select operation:\")\n",
    "print(\"1. Addition\")\n",
    "print(\"2. Subtraction\")\n",
    "print(\"3. Multiplication\")\n",
    "print(\"4. Division\")\n",
    "\n",
    "try:\n",
    "    # Accept choice from the user\n",
    "    choice = int(input(\"Enter choice (1/2/3/4): \"))\n",
    "    \n",
    "    # Perform the selected operation\n",
    "    if choice in (1, 2, 3, 4):\n",
    "        num1 = float(input(\"Enter first number: \"))\n",
    "        num2 = float(input(\"Enter second number: \"))\n",
    "        \n",
    "        if choice == 1:\n",
    "            print(\"Result:\", add(num1, num2))\n",
    "        elif choice == 2:\n",
    "            print(\"Result:\", subtract(num1, num2))\n",
    "        elif choice == 3:\n",
    "            print(\"Result:\", multiply(num1, num2))\n",
    "        elif choice == 4:\n",
    "            print(\"Result:\", divide(num1, num2))\n",
    "    else:\n",
    "        print(\"Invalid choice. Please select a valid option (1/2/3/4).\")\n",
    "except ValueError:\n",
    "    print(\"Invalid input. Please enter a valid choice and numbers.\")\n"
   ]
  }
 ],
 "metadata": {
  "kernelspec": {
   "display_name": "Python 3 (ipykernel)",
   "language": "python",
   "name": "python3"
  },
  "language_info": {
   "codemirror_mode": {
    "name": "ipython",
    "version": 3
   },
   "file_extension": ".py",
   "mimetype": "text/x-python",
   "name": "python",
   "nbconvert_exporter": "python",
   "pygments_lexer": "ipython3",
   "version": "3.11.5"
  }
 },
 "nbformat": 4,
 "nbformat_minor": 5
}
