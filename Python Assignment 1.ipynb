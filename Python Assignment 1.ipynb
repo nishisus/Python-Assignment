{
 "cells": [
  {
   "cell_type": "markdown",
   "id": "f42a44b1",
   "metadata": {},
   "source": [
    "# Write a Program to print \"Hello Python\""
   ]
  },
  {
   "cell_type": "code",
   "execution_count": 1,
   "id": "f497aabf",
   "metadata": {},
   "outputs": [
    {
     "name": "stdout",
     "output_type": "stream",
     "text": [
      "Hello Python\n"
     ]
    }
   ],
   "source": [
    "print(\"Hello Python\")"
   ]
  },
  {
   "cell_type": "markdown",
   "id": "d7f21a9f",
   "metadata": {},
   "source": [
    "# Write a Python program to do arithmetical operations addition and division.?"
   ]
  },
  {
   "cell_type": "code",
   "execution_count": 2,
   "id": "2d7284f0",
   "metadata": {},
   "outputs": [
    {
     "name": "stdout",
     "output_type": "stream",
     "text": [
      "Enter the first number: 2\n",
      "Enter the second number: 3\n",
      "The sum of 2.0 and 3.0 is 5.0\n",
      "The division of 2.0 by 3.0 is 0.6666666666666666\n"
     ]
    }
   ],
   "source": [
    "# User enters two numbers\n",
    "first_number = float(input(\"Enter the first number: \"))\n",
    "second_number = float(input(\"Enter the second number: \"))\n",
    "\n",
    "# Perform addition\n",
    "sum = first_number + second_number\n",
    "print(f\"The sum of {first_number} and {second_number} is {sum}\")\n",
    "\n",
    "# Perform division (notice the use of float to avoid integer division)\n",
    "division = first_number / second_number\n",
    "print(f\"The division of {first_number} by {second_number} is {division}\")"
   ]
  },
  {
   "cell_type": "markdown",
   "id": "726f29c9",
   "metadata": {},
   "source": [
    "# Write a Python program to find the area of a triangle?"
   ]
  },
  {
   "cell_type": "code",
   "execution_count": 3,
   "id": "a4ab6465",
   "metadata": {},
   "outputs": [
    {
     "name": "stdout",
     "output_type": "stream",
     "text": [
      "Enter the base of the triangle: 24\n",
      "Enter the height of the triangle: 6\n",
      "The area of the triangle is 72.00\n"
     ]
    }
   ],
   "source": [
    "# Get base and height from user\n",
    "base = float(input(\"Enter the base of the triangle: \"))\n",
    "height = float(input(\"Enter the height of the triangle: \"))\n",
    "\n",
    "# Calculate area using the formula (1/2) * base * height\n",
    "area = 0.5 * base * height\n",
    "\n",
    "# Print the area\n",
    "print(f\"The area of the triangle is {area:.2f}\")  # Format to display two decimal places"
   ]
  },
  {
   "cell_type": "markdown",
   "id": "ffc0780b",
   "metadata": {},
   "source": [
    "# Write a Python program to swap two variables?"
   ]
  },
  {
   "cell_type": "code",
   "execution_count": 4,
   "id": "64f65e29",
   "metadata": {},
   "outputs": [
    {
     "name": "stdout",
     "output_type": "stream",
     "text": [
      "After swapping: x = 10, y = 5\n"
     ]
    }
   ],
   "source": [
    "# Define variables\n",
    "x = 5\n",
    "y = 10\n",
    "\n",
    "# Swap values in a single line using comma operator\n",
    "x, y = y, x\n",
    "\n",
    "# Print the swapped values\n",
    "print(f\"After swapping: x = {x}, y = {y}\")"
   ]
  },
  {
   "cell_type": "markdown",
   "id": "0485b5be",
   "metadata": {},
   "source": [
    "# Write a Python program to generate a random number?"
   ]
  },
  {
   "cell_type": "code",
   "execution_count": 5,
   "id": "d2553c05",
   "metadata": {},
   "outputs": [
    {
     "name": "stdout",
     "output_type": "stream",
     "text": [
      "Random float between 0 and 1 (exclusive): 0.3551978143752018\n",
      "Random integer between 10 and 20 (inclusive): 14\n"
     ]
    }
   ],
   "source": [
    "import random\n",
    "\n",
    "# Generate a random float between 0 (inclusive) and 1 (exclusive)\n",
    "random_float = random.random()\n",
    "print(f\"Random float between 0 and 1 (exclusive): {random_float}\")\n",
    "\n",
    "# Generate a random integer between two values (inclusive)\n",
    "lower_bound = 10\n",
    "upper_bound = 20\n",
    "random_integer = random.randint(lower_bound, upper_bound)\n",
    "print(f\"Random integer between {lower_bound} and {upper_bound} (inclusive): {random_integer}\")"
   ]
  }
 ],
 "metadata": {
  "kernelspec": {
   "display_name": "Python 3 (ipykernel)",
   "language": "python",
   "name": "python3"
  },
  "language_info": {
   "codemirror_mode": {
    "name": "ipython",
    "version": 3
   },
   "file_extension": ".py",
   "mimetype": "text/x-python",
   "name": "python",
   "nbconvert_exporter": "python",
   "pygments_lexer": "ipython3",
   "version": "3.11.5"
  }
 },
 "nbformat": 4,
 "nbformat_minor": 5
}
