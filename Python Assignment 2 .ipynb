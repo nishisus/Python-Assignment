{
 "cells": [
  {
   "cell_type": "markdown",
   "id": "5c27e7f8",
   "metadata": {},
   "source": [
    "# How do you concatenate two strings in Python?"
   ]
  },
  {
   "cell_type": "code",
   "execution_count": 1,
   "id": "91dc7ff1",
   "metadata": {},
   "outputs": [
    {
     "name": "stdout",
     "output_type": "stream",
     "text": [
      "Hello World\n"
     ]
    }
   ],
   "source": [
    "str1 = \"Hello\"\n",
    "str2 = \"World\"\n",
    "concatenated_str = str1 + \" \" + str2\n",
    "print(concatenated_str)  # Output: Hello World\n"
   ]
  },
  {
   "cell_type": "code",
   "execution_count": 2,
   "id": "c77e7b72",
   "metadata": {},
   "outputs": [
    {
     "name": "stdout",
     "output_type": "stream",
     "text": [
      "Hello World\n"
     ]
    }
   ],
   "source": [
    "str1 = \"Hello\"\n",
    "str2 = \"World\"\n",
    "concatenated_str = \" \".join([str1, str2])\n",
    "print(concatenated_str)  # Output: Hello World\n"
   ]
  },
  {
   "cell_type": "markdown",
   "id": "519bafef",
   "metadata": {},
   "source": [
    "# What is the difference between the + operator and the join() method for concatenating strings?"
   ]
  },
  {
   "cell_type": "code",
   "execution_count": 3,
   "id": "565fac8e",
   "metadata": {},
   "outputs": [],
   "source": [
    "str1 = \"Hello\"\n",
    "str2 = \"World\"\n",
    "concatenated_str = str1 + \" \" + str2\n"
   ]
  },
  {
   "cell_type": "code",
   "execution_count": 4,
   "id": "18866751",
   "metadata": {},
   "outputs": [],
   "source": [
    "str_list = [\"Hello\", \"World\"]\n",
    "concatenated_str = \" \".join(str_list)\n"
   ]
  },
  {
   "cell_type": "markdown",
   "id": "4473203a",
   "metadata": {},
   "source": [
    "# How do you access individual characters in a string?"
   ]
  },
  {
   "cell_type": "code",
   "execution_count": 5,
   "id": "de2bc950",
   "metadata": {},
   "outputs": [
    {
     "name": "stdout",
     "output_type": "stream",
     "text": [
      "H\n",
      "e\n",
      "!\n"
     ]
    }
   ],
   "source": [
    "my_string = \"Hello, World!\"\n",
    "\n",
    "# Accessing individual characters using positive indexing\n",
    "first_char = my_string[0]  # Access the first character ('H')\n",
    "second_char = my_string[1]  # Access the second character ('e')\n",
    "last_char = my_string[-1]   # Access the last character ('!')\n",
    "\n",
    "print(first_char)  # Output: H\n",
    "print(second_char) # Output: e\n",
    "print(last_char)   # Output: !\n"
   ]
  },
  {
   "cell_type": "markdown",
   "id": "89d270e0",
   "metadata": {},
   "source": [
    "# What method is used to find the length of a string in Python?"
   ]
  },
  {
   "cell_type": "code",
   "execution_count": 6,
   "id": "76a28153",
   "metadata": {},
   "outputs": [
    {
     "name": "stdout",
     "output_type": "stream",
     "text": [
      "13\n"
     ]
    }
   ],
   "source": [
    "my_string = \"Hello, World!\"\n",
    "string_length = len(my_string)\n",
    "print(string_length)  # Output: 13\n"
   ]
  },
  {
   "cell_type": "markdown",
   "id": "c17772ef",
   "metadata": {},
   "source": [
    "# How can you convert a string to uppercase in Python?"
   ]
  },
  {
   "cell_type": "code",
   "execution_count": 7,
   "id": "bb9ac03c",
   "metadata": {},
   "outputs": [
    {
     "name": "stdout",
     "output_type": "stream",
     "text": [
      "HELLO, WORLD!\n"
     ]
    }
   ],
   "source": [
    "my_string = \"hello, world!\"\n",
    "uppercase_string = my_string.upper()\n",
    "print(uppercase_string)  # Output: HELLO, WORLD!\n"
   ]
  },
  {
   "cell_type": "markdown",
   "id": "6492eadc",
   "metadata": {},
   "source": [
    "# How can you convert a string to lowercase in Python?"
   ]
  },
  {
   "cell_type": "code",
   "execution_count": 8,
   "id": "b1d3045e",
   "metadata": {},
   "outputs": [
    {
     "name": "stdout",
     "output_type": "stream",
     "text": [
      "hello, world!\n"
     ]
    }
   ],
   "source": [
    "my_string = \"hello, world!\"\n",
    "lowercase_string = my_string.lower()\n",
    "print(lowercase_string)  # Output: hello, world!\n"
   ]
  },
  {
   "cell_type": "markdown",
   "id": "8cba4d5f",
   "metadata": {},
   "source": [
    "# What method is used to replace substrings within a string?"
   ]
  },
  {
   "cell_type": "code",
   "execution_count": 9,
   "id": "e482e4a4",
   "metadata": {},
   "outputs": [
    {
     "name": "stdout",
     "output_type": "stream",
     "text": [
      "Hello, Universe!\n"
     ]
    }
   ],
   "source": [
    "original_string = \"Hello, World!\"\n",
    "new_string = original_string.replace(\"World\", \"Universe\")\n",
    "print(new_string)  # Output: Hello, Universe!\n"
   ]
  },
  {
   "cell_type": "markdown",
   "id": "2869067c",
   "metadata": {},
   "source": [
    "# How can you split a string into a list of substrings based on a delimiter?"
   ]
  },
  {
   "cell_type": "code",
   "execution_count": 10,
   "id": "7400197e",
   "metadata": {},
   "outputs": [
    {
     "name": "stdout",
     "output_type": "stream",
     "text": [
      "['Hello', 'World', 'Python']\n"
     ]
    }
   ],
   "source": [
    "my_string = \"Hello,World,Python\"\n",
    "substring_list = my_string.split(\",\")\n",
    "print(substring_list)  # Output: ['Hello', 'World', 'Python']\n"
   ]
  },
  {
   "cell_type": "markdown",
   "id": "5cf5719d",
   "metadata": {},
   "source": [
    "# How do you check if a string starts with a particular substring?"
   ]
  },
  {
   "cell_type": "code",
   "execution_count": 11,
   "id": "7a81f644",
   "metadata": {},
   "outputs": [
    {
     "name": "stdout",
     "output_type": "stream",
     "text": [
      "The string starts with 'Hello'.\n"
     ]
    }
   ],
   "source": [
    "my_string = \"Hello, World!\"\n",
    "substring = \"Hello\"\n",
    "\n",
    "if my_string.startswith(substring):\n",
    "    print(\"The string starts with '{}'.\".format(substring))\n",
    "else:\n",
    "    print(\"The string does not start with '{}'.\".format(substring))\n"
   ]
  },
  {
   "cell_type": "markdown",
   "id": "211c3aaa",
   "metadata": {},
   "source": [
    "# How do you check if a string ends with a particular substring?"
   ]
  },
  {
   "cell_type": "code",
   "execution_count": 12,
   "id": "204eddec",
   "metadata": {},
   "outputs": [
    {
     "name": "stdout",
     "output_type": "stream",
     "text": [
      "The string ends with 'World!'.\n"
     ]
    }
   ],
   "source": [
    "my_string = \"Hello, World!\"\n",
    "substring = \"World!\"\n",
    "\n",
    "if my_string.endswith(substring):\n",
    "    print(\"The string ends with '{}'.\".format(substring))\n",
    "else:\n",
    "    print(\"The string does not end with '{}'.\".format(substring))\n"
   ]
  },
  {
   "cell_type": "markdown",
   "id": "abde7882",
   "metadata": {},
   "source": [
    "# How can you remove leading and trailing whitespace from a string?"
   ]
  },
  {
   "cell_type": "code",
   "execution_count": 13,
   "id": "a85f7ba6",
   "metadata": {},
   "outputs": [
    {
     "name": "stdout",
     "output_type": "stream",
     "text": [
      "Hello, World!\n"
     ]
    }
   ],
   "source": [
    "my_string = \"   Hello, World!   \"\n",
    "trimmed_string = my_string.strip()\n",
    "print(trimmed_string)  # Output: \"Hello, World!\"\n"
   ]
  },
  {
   "cell_type": "markdown",
   "id": "b19dc429",
   "metadata": {},
   "source": [
    "# What method is used to find the index of the first occurrence of a substring within a string?"
   ]
  },
  {
   "cell_type": "code",
   "execution_count": 14,
   "id": "d96cfce4",
   "metadata": {},
   "outputs": [
    {
     "name": "stdout",
     "output_type": "stream",
     "text": [
      "7\n"
     ]
    }
   ],
   "source": [
    "my_string = \"Hello, World!\"\n",
    "substring = \"World\"\n",
    "index = my_string.find(substring)\n",
    "print(index)  # Output: 7\n"
   ]
  },
  {
   "cell_type": "markdown",
   "id": "0fb55031",
   "metadata": {},
   "source": [
    "# How can you count the number of occurrences of a substring within a string?"
   ]
  },
  {
   "cell_type": "code",
   "execution_count": 15,
   "id": "2bd1185e",
   "metadata": {},
   "outputs": [
    {
     "name": "stdout",
     "output_type": "stream",
     "text": [
      "2\n"
     ]
    }
   ],
   "source": [
    "my_string = \"hello hello world\"\n",
    "substring = \"hello\"\n",
    "count = my_string.count(substring)\n",
    "print(count)  # Output: 2\n"
   ]
  },
  {
   "cell_type": "markdown",
   "id": "5cab817b",
   "metadata": {},
   "source": [
    "# How do you check if a string contains only alphabetic characters?"
   ]
  },
  {
   "cell_type": "code",
   "execution_count": 16,
   "id": "e0ae06e9",
   "metadata": {},
   "outputs": [
    {
     "name": "stdout",
     "output_type": "stream",
     "text": [
      "The string contains only alphabetic characters.\n"
     ]
    }
   ],
   "source": [
    "my_string = \"HelloWorld\"\n",
    "if my_string.isalpha():\n",
    "    print(\"The string contains only alphabetic characters.\")\n",
    "else:\n",
    "    print(\"The string does not contain only alphabetic characters.\")\n"
   ]
  },
  {
   "cell_type": "markdown",
   "id": "d8c4c396",
   "metadata": {},
   "source": [
    "# How do you check if a string contains only numeric characters?"
   ]
  },
  {
   "cell_type": "code",
   "execution_count": 17,
   "id": "cfe05e73",
   "metadata": {},
   "outputs": [
    {
     "name": "stdout",
     "output_type": "stream",
     "text": [
      "The string contains only numeric characters.\n"
     ]
    }
   ],
   "source": [
    "my_string = \"12345\"\n",
    "if my_string.isdigit():\n",
    "    print(\"The string contains only numeric characters.\")\n",
    "else:\n",
    "    print(\"The string does not contain only numeric characters.\")\n"
   ]
  },
  {
   "cell_type": "markdown",
   "id": "78563a2d",
   "metadata": {},
   "source": [
    "# How can you check if a string is a palindrome?"
   ]
  },
  {
   "cell_type": "code",
   "execution_count": 18,
   "id": "c44ce5ba",
   "metadata": {},
   "outputs": [
    {
     "name": "stdout",
     "output_type": "stream",
     "text": [
      "True\n",
      "True\n",
      "False\n"
     ]
    }
   ],
   "source": [
    "def is_palindrome(s):\n",
    "    # Remove non-alphanumeric characters and convert to lowercase\n",
    "    s = ''.join(char.lower() for char in s if char.isalnum())\n",
    "    return s == s[::-1]\n",
    "\n",
    "# Test the function\n",
    "print(is_palindrome(\"A man, a plan, a canal, Panama\"))  # Output: True\n",
    "print(is_palindrome(\"racecar\"))                        # Output: True\n",
    "print(is_palindrome(\"hello\"))                          # Output: False\n"
   ]
  },
  {
   "cell_type": "markdown",
   "id": "0d885912",
   "metadata": {},
   "source": [
    "# How can you reverse a string in Python?"
   ]
  },
  {
   "cell_type": "code",
   "execution_count": 19,
   "id": "c9f657c4",
   "metadata": {},
   "outputs": [
    {
     "name": "stdout",
     "output_type": "stream",
     "text": [
      "!dlroW ,olleH\n"
     ]
    }
   ],
   "source": [
    "my_string = \"Hello, World!\"\n",
    "reversed_string = my_string[::-1]\n",
    "print(reversed_string)  # Output: \"!dlroW ,olleH\"\n"
   ]
  },
  {
   "cell_type": "markdown",
   "id": "ce2c71df",
   "metadata": {},
   "source": [
    "# How do you format a string with placeholders for variable values?"
   ]
  },
  {
   "cell_type": "code",
   "execution_count": 20,
   "id": "ceb077b2",
   "metadata": {},
   "outputs": [
    {
     "name": "stdout",
     "output_type": "stream",
     "text": [
      "My name is Alice and I am 30 years old.\n"
     ]
    }
   ],
   "source": [
    "name = \"Alice\"\n",
    "age = 30\n",
    "formatted_string = \"My name is {} and I am {} years old.\".format(name, age)\n",
    "print(formatted_string)\n"
   ]
  },
  {
   "cell_type": "markdown",
   "id": "5ce7a9f3",
   "metadata": {},
   "source": [
    "# How do you access a substring of a string using slicing?"
   ]
  },
  {
   "cell_type": "code",
   "execution_count": 21,
   "id": "a2de0b5f",
   "metadata": {},
   "outputs": [
    {
     "name": "stdout",
     "output_type": "stream",
     "text": [
      "World!\n",
      "Hello\n",
      "World\n"
     ]
    }
   ],
   "source": [
    "my_string = \"Hello, World!\"\n",
    "\n",
    "# Extract substring from index 7 to the end\n",
    "substring1 = my_string[7:]\n",
    "print(substring1)  # Output: \"World!\"\n",
    "\n",
    "# Extract substring from index 0 to 5 (excluding index 5)\n",
    "substring2 = my_string[:5]\n",
    "print(substring2)  # Output: \"Hello\"\n",
    "\n",
    "# Extract substring from index 7 to 12 (excluding index 12)\n",
    "substring3 = my_string[7:12]\n",
    "print(substring3)  # Output: \"World\"\n"
   ]
  },
  {
   "cell_type": "markdown",
   "id": "38126a5d",
   "metadata": {},
   "source": [
    "# How can you remove specific characters from a string in Python?"
   ]
  },
  {
   "cell_type": "code",
   "execution_count": 22,
   "id": "70746110",
   "metadata": {},
   "outputs": [
    {
     "name": "stdout",
     "output_type": "stream",
     "text": [
      "Hello World\n"
     ]
    }
   ],
   "source": [
    "my_string = \"Hello, World!\"\n",
    "chars_to_remove = \",!\"\n",
    "cleaned_string = my_string.replace(\",\", \"\").replace(\"!\", \"\")\n",
    "print(cleaned_string)  # Output: \"Hello World\"\n"
   ]
  }
 ],
 "metadata": {
  "kernelspec": {
   "display_name": "Python 3 (ipykernel)",
   "language": "python",
   "name": "python3"
  },
  "language_info": {
   "codemirror_mode": {
    "name": "ipython",
    "version": 3
   },
   "file_extension": ".py",
   "mimetype": "text/x-python",
   "name": "python",
   "nbconvert_exporter": "python",
   "pygments_lexer": "ipython3",
   "version": "3.11.5"
  }
 },
 "nbformat": 4,
 "nbformat_minor": 5
}
